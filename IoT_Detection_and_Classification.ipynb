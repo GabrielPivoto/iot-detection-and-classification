{
 "cells": [
  {
   "cell_type": "markdown",
   "id": "e660ec49",
   "metadata": {},
   "source": [
    "# ML-based Novelty Detection and Classification of Security Threats in IoT Networks"
   ]
  },
  {
   "cell_type": "markdown",
   "id": "702747e6",
   "metadata": {},
   "source": [
    "Disclaimer: this is a reduced (faster) version of the experiments presented in the paper."
   ]
  },
  {
   "cell_type": "markdown",
   "id": "21cfc0e0",
   "metadata": {},
   "source": [
    "#### Importing libraries"
   ]
  },
  {
   "cell_type": "code",
   "execution_count": 1,
   "id": "1acc189f",
   "metadata": {},
   "outputs": [],
   "source": [
    "import warnings\n",
    "from numba.core.errors import NumbaDeprecationWarning, NumbaPendingDeprecationWarning\n",
    "warnings.simplefilter('ignore', category=NumbaDeprecationWarning)\n",
    "warnings.simplefilter('ignore', category=NumbaPendingDeprecationWarning)"
   ]
  },
  {
   "cell_type": "code",
   "execution_count": 2,
   "id": "12730b0a",
   "metadata": {},
   "outputs": [],
   "source": [
    "import json\n",
    "import random\n",
    "from datetime import datetime"
   ]
  },
  {
   "cell_type": "code",
   "execution_count": 3,
   "id": "b5db2aca",
   "metadata": {
    "scrolled": true
   },
   "outputs": [
    {
     "name": "stdout",
     "output_type": "stream",
     "text": [
      "Imported 0.3.1 version. Select nrows to a small number when running on huge datasets.\n",
      "output = featurewiz(dataname, target, corr_limit=0.90, verbose=2, sep=',', \n",
      "\t\theader=0, test_data='',feature_engg='', category_encoders='',\n",
      "\t\tdask_xgboost_flag=False, nrows=None, skip_sulov=False)\n",
      "Create new features via 'feature_engg' flag : ['interactions','groupby','target']\n",
      "\n"
     ]
    }
   ],
   "source": [
    "import matplotlib.pyplot as plt\n",
    "import numpy as np\n",
    "import optuna\n",
    "import pandas as pd\n",
    "import psutil\n",
    "from featurewiz import FeatureWiz\n",
    "from imblearn.combine import SMOTETomek\n",
    "from lightgbm import LGBMClassifier\n",
    "from sklearn.covariance import EllipticEnvelope\n",
    "from sklearn.ensemble import IsolationForest, RandomForestClassifier\n",
    "from sklearn.kernel_approximation import Nystroem\n",
    "from sklearn.linear_model import SGDOneClassSVM\n",
    "from sklearn.metrics import accuracy_score\n",
    "from sklearn.model_selection import train_test_split\n",
    "from sklearn.neighbors import LocalOutlierFactor\n",
    "from sklearn.pipeline import make_pipeline\n",
    "from sklearn.tree import DecisionTreeClassifier\n",
    "from xgboost import XGBClassifier"
   ]
  },
  {
   "cell_type": "markdown",
   "id": "b0e0a822",
   "metadata": {},
   "source": [
    "# Constants, RNG setup and utils"
   ]
  },
  {
   "cell_type": "code",
   "execution_count": 4,
   "id": "6fc7bac4",
   "metadata": {},
   "outputs": [],
   "source": [
    "CFG_FRACTION = 0.01\n",
    "CFG_SCENARIO = 'Scan'\n",
    "CFG_SEED = 42\n",
    "CFG_N_JOBS = int(np.sqrt(psutil.cpu_count(logical=False)))\n",
    "CFG_N_TRIALS = 20"
   ]
  },
  {
   "cell_type": "code",
   "execution_count": 5,
   "id": "3e42212c",
   "metadata": {},
   "outputs": [],
   "source": [
    "np.random.seed(CFG_SEED)\n",
    "np.random.rand(CFG_SEED)\n",
    "random.seed(CFG_SEED)"
   ]
  },
  {
   "cell_type": "code",
   "execution_count": 6,
   "id": "6baf43b9",
   "metadata": {},
   "outputs": [],
   "source": [
    "# Filter trials (i.e. remove trials that were pruned)\n",
    "def filter_completed_trials(trials):\n",
    "    completed_trials = [x for x in trials if x.state == optuna.trial.TrialState.COMPLETE]\n",
    "    return completed_trials"
   ]
  },
  {
   "cell_type": "code",
   "execution_count": 7,
   "id": "f9d9ec4d",
   "metadata": {},
   "outputs": [],
   "source": [
    "# Get total execution time in seconds\n",
    "def get_time(trial):\n",
    "    start, end = trial.datetime_start, trial.datetime_complete\n",
    "    return (end - start).total_seconds()"
   ]
  },
  {
   "cell_type": "code",
   "execution_count": 8,
   "id": "95d2fe10",
   "metadata": {},
   "outputs": [],
   "source": [
    "# Compute statistics for the results\n",
    "def get_results_statistics(study):\n",
    "    completed_trials = filter_completed_trials(study.trials)\n",
    "    return {\n",
    "        'score_min': np.min([x.values for x in completed_trials]),\n",
    "        'score_max': np.max([x.values for x in completed_trials]),\n",
    "        'score_mean': np.mean([x.values for x in completed_trials]),\n",
    "        'score_std': np.std([x.values for x in completed_trials]),\n",
    "        'time_min' : np.min([get_time(x) for x in completed_trials]),\n",
    "        'time_max' : np.min([get_time(x) for x in completed_trials]),\n",
    "        'time_mean' : np.mean([get_time(x) for x in completed_trials]),\n",
    "        'time_std' : np.std([get_time(x) for x in completed_trials])\n",
    "    }"
   ]
  },
  {
   "cell_type": "code",
   "execution_count": 9,
   "id": "189bbdd3",
   "metadata": {},
   "outputs": [],
   "source": [
    "# Print value counts with count and frequency\n",
    "def pretty_print_value_counts(df, column=None):\n",
    "    if column:\n",
    "        c = df[column].value_counts(dropna=False)\n",
    "        p = df[column].value_counts(dropna=False, normalize=True).mul(100).round(1).astype(str) + '%'\n",
    "    else:\n",
    "        c = df.value_counts(dropna=False)\n",
    "        p = df.value_counts(dropna=False, normalize=True).mul(100).round(1).astype(str) + '%'\n",
    "    print(pd.concat([c,p], axis=1, keys=['counts', '%']))"
   ]
  },
  {
   "cell_type": "markdown",
   "id": "3923300c",
   "metadata": {},
   "source": [
    "# Data Preprocessing"
   ]
  },
  {
   "cell_type": "markdown",
   "id": "1b34e461",
   "metadata": {},
   "source": [
    "#### Reading dataset"
   ]
  },
  {
   "cell_type": "code",
   "execution_count": 10,
   "id": "91dd702e",
   "metadata": {},
   "outputs": [],
   "source": [
    "# Read the dataset\n",
    "df = pd.read_parquet('IoT_Network_Intrusion_Macro.parquet').sample(frac=CFG_FRACTION, random_state=CFG_SEED)\n",
    "\n",
    "# Irrelevant features for training\n",
    "df = df.drop(['ip.src', 'ip.dst'], axis=1) \n",
    "\n",
    "# Target feature\n",
    "target = 'label'\n",
    "df[target].replace('DenialofServiceDoS', 'DoS', inplace=True)\n",
    "df[target].replace('ManintheMiddleMITM', 'MITM', inplace=True)\n",
    "df[target].replace('MiraiBotnet', 'Mirai', inplace=True)\n",
    "df[target].replace('Scanning', 'Scan', inplace=True)"
   ]
  },
  {
   "cell_type": "markdown",
   "id": "718a5925",
   "metadata": {},
   "source": [
    "#### Showing all target labels (categories)"
   ]
  },
  {
   "cell_type": "code",
   "execution_count": 11,
   "id": "3cf4cead",
   "metadata": {},
   "outputs": [
    {
     "name": "stdout",
     "output_type": "stream",
     "text": [
      "        counts      %\n",
      "label                \n",
      "Normal   14464  54.4%\n",
      "Mirai    10206  38.4%\n",
      "MITM       996   3.7%\n",
      "DoS        682   2.6%\n",
      "Scan       235   0.9%\n"
     ]
    }
   ],
   "source": [
    "pretty_print_value_counts(df, target)"
   ]
  },
  {
   "cell_type": "markdown",
   "id": "70ec670d",
   "metadata": {},
   "source": [
    "#### Converting categories into numeric values"
   ]
  },
  {
   "cell_type": "code",
   "execution_count": 12,
   "id": "2018c266",
   "metadata": {},
   "outputs": [],
   "source": [
    "df[target], categories = pd.factorize(df[target], sort=False)\n",
    "reverse_mappings = {i:categories[i] for i in range(len(categories.values))}"
   ]
  },
  {
   "cell_type": "code",
   "execution_count": 13,
   "id": "c77a3155",
   "metadata": {
    "scrolled": true
   },
   "outputs": [
    {
     "data": {
      "text/plain": [
       "{0: 'Normal', 1: 'Mirai', 2: 'MITM', 3: 'DoS', 4: 'Scan'}"
      ]
     },
     "execution_count": 13,
     "metadata": {},
     "output_type": "execute_result"
    }
   ],
   "source": [
    "reverse_mappings"
   ]
  },
  {
   "cell_type": "code",
   "execution_count": 14,
   "id": "b7ffeba4",
   "metadata": {},
   "outputs": [
    {
     "name": "stdout",
     "output_type": "stream",
     "text": [
      "       counts      %\n",
      "label               \n",
      "0       14464  54.4%\n",
      "1       10206  38.4%\n",
      "2         996   3.7%\n",
      "3         682   2.6%\n",
      "4         235   0.9%\n"
     ]
    }
   ],
   "source": [
    "pretty_print_value_counts(df, target)"
   ]
  },
  {
   "cell_type": "code",
   "execution_count": 15,
   "id": "29d396d7",
   "metadata": {},
   "outputs": [],
   "source": [
    "outlier_labels = [CFG_SCENARIO]\n",
    "outlier_indices = [k for k,v in reverse_mappings.items() if v in outlier_labels]\n",
    "outlier_rows = df[target].isin(outlier_indices)\n",
    "inlier_rows = ~df[target].isin(outlier_indices)"
   ]
  },
  {
   "cell_type": "markdown",
   "id": "0ee4da1a",
   "metadata": {},
   "source": [
    "# Feature Selection"
   ]
  },
  {
   "cell_type": "code",
   "execution_count": 16,
   "id": "cbd9fd61",
   "metadata": {},
   "outputs": [
    {
     "name": "stdout",
     "output_type": "stream",
     "text": [
      "wiz = FeatureWiz(verbose=1)\n",
      "        X_train_selected = wiz.fit_transform(X_train, y_train)\n",
      "        X_test_selected = wiz.transform(X_test)\n",
      "        wiz.features  ### provides a list of selected features ###            \n",
      "        \n",
      "featurewiz has selected 0.8 as the correlation limit. Change this limit to fit your needs...\n",
      "Skipping feature engineering since no feature_engg input...\n",
      "Skipping category encoding since no category encoders specified in input...\n",
      "#### Single_Label Multi_Classification problem ####\n",
      "    Loaded train data. Shape = (26583, 28)\n",
      "    Some column names had special characters which were removed...\n",
      "#### Single_Label Multi_Classification problem ####\n",
      "No test data filename given...\n",
      "Classifying features using a random sample of 10000 rows from dataset...\n",
      "#### Single_Label Multi_Classification problem ####\n",
      "    loading a random sample of 10000 rows into pandas for EDA\n",
      "#######################################################################################\n",
      "######################## C L A S S I F Y I N G  V A R I A B L E S  ####################\n",
      "#######################################################################################\n",
      "        6 variable(s) to be removed since ID or low-information variables\n",
      "    \tvariables removed = ['icmpcode', 'icmplength', 'icmptype', 'ipflagsmf', 'ipflagsrb', 'ipflagssf']\n",
      "train data shape before dropping 6 columns = (26583, 28)\n",
      "\ttrain data shape after dropping columns = (26583, 22)\n",
      "Removing 6 columns from further processing since ID or low information variables\n",
      "#######################################################################################\n",
      "#####  Searching for Uncorrelated List Of Variables (SULOV) in 21 features ############\n",
      "#######################################################################################\n",
      "    there are no null values in dataset...\n",
      "    Removing (1) highly correlated variables:\n",
      "    ['framelen']\n",
      "    Following (20) vars selected: ['_wscolTime', 'framenumber', 'ipproto', 'ipttl', 'ipflagsdf', 'ipversion', 'tcpflagsack', 'tcpflagscwr', 'tcpflagsecn', 'tcpflagsfin', 'tcpflagsns', 'tcpflagspush', 'tcpflagsres', 'tcpflagsreset', 'tcpflagssyn', 'tcpflagsurg', 'udplength', 'udpsrcport', 'udpdstport', 'iplen']\n",
      "Completed SULOV. 20 features selected\n",
      "Time taken for SULOV method = 0 seconds\n",
      "Finally 20 vars selected after SULOV\n",
      "Converting all features to numeric before sending to XGBoost...\n",
      "Number of booster rounds = 100\n",
      "        Selected: ['ipflagsdf', 'ipttl', 'tcpflagssyn', 'iplen', 'framenumber']\n",
      "            Time taken for regular XGBoost feature selection = 2 seconds\n",
      "        Selected: ['ipflagsdf', 'iplen', 'tcpflagssyn', 'udpsrcport', 'tcpflagsack']\n",
      "            Time taken for regular XGBoost feature selection = 1 seconds\n",
      "        Selected: ['udplength', 'iplen', 'tcpflagssyn', 'udpdstport', 'udpsrcport']\n",
      "            Time taken for regular XGBoost feature selection = 1 seconds\n",
      "        Selected: ['udplength', 'iplen', 'tcpflagssyn', 'udpdstport', 'udpsrcport']\n",
      "            Time taken for regular XGBoost feature selection = 1 seconds\n",
      "        Selected: ['udplength', 'iplen', 'udpdstport', 'udpsrcport']\n",
      "            Time taken for regular XGBoost feature selection = 1 seconds\n",
      "    Completed XGBoost feature selection in 1 seconds\n",
      "Selected 9 important features:\n",
      "['ipflagsdf', 'ipttl', 'tcpflagssyn', 'iplen', 'framenumber', 'udpsrcport', 'tcpflagsack', 'udplength', 'udpdstport']\n",
      "Total Time taken for featurewiz selection = 6 seconds\n",
      "Output contains a list of 9 important features and a train dataframe\n",
      "    Time taken to create entire pipeline = 6 second(s)\n"
     ]
    },
    {
     "data": {
      "text/plain": [
       "['ip.flags.df',\n",
       " 'ip.ttl',\n",
       " 'tcp.flags.syn',\n",
       " 'ip.len',\n",
       " 'frame.number',\n",
       " 'udp.srcport',\n",
       " 'tcp.flags.ack',\n",
       " 'udp.length',\n",
       " 'udp.dstport']"
      ]
     },
     "execution_count": 16,
     "metadata": {},
     "output_type": "execute_result"
    }
   ],
   "source": [
    "X = df.drop([target], axis=1)\n",
    "y = df[target]\n",
    "\n",
    "fwiz = FeatureWiz(corr_limit=0.80, verbose=0).fit(X, y)\n",
    "\n",
    "fwiz.features"
   ]
  },
  {
   "cell_type": "markdown",
   "id": "60f4973a",
   "metadata": {},
   "source": [
    "# Novelty detection"
   ]
  },
  {
   "cell_type": "code",
   "execution_count": 17,
   "id": "9c30ad67",
   "metadata": {},
   "outputs": [],
   "source": [
    "detection_results = {}"
   ]
  },
  {
   "cell_type": "code",
   "execution_count": 18,
   "id": "7d683651",
   "metadata": {},
   "outputs": [],
   "source": [
    "X_train = df[inlier_rows][fwiz.features]\n",
    "y_train = df[inlier_rows][target].copy()\n",
    "y_train.loc[:] = 'Known'\n",
    "\n",
    "X_test = df[outlier_rows][fwiz.features]\n",
    "y_test = df[outlier_rows][target].copy()\n",
    "y_test.loc[:] = 'Unknown'"
   ]
  },
  {
   "cell_type": "code",
   "execution_count": 19,
   "id": "7928d6c6",
   "metadata": {},
   "outputs": [],
   "source": [
    "def accuracy_count_score(y_pred):\n",
    "    n_outliers = len([y for y in y_pred if y == -1])\n",
    "    n_inliers = len([y for y in y_pred if y == +1])\n",
    "    accuracy = n_outliers / (n_outliers + n_inliers)\n",
    "    return accuracy"
   ]
  },
  {
   "cell_type": "markdown",
   "id": "96fdf4c9",
   "metadata": {},
   "source": [
    "#### Elliptic Envelope"
   ]
  },
  {
   "cell_type": "code",
   "execution_count": 20,
   "id": "2d8b21c2",
   "metadata": {
    "scrolled": false
   },
   "outputs": [
    {
     "name": "stderr",
     "output_type": "stream",
     "text": [
      "\u001b[32m[I 2023-10-05 16:40:24,212]\u001b[0m A new study created in memory with name: no-name-0c5d495a-b46f-4bfb-aebe-1d01f396a69c\u001b[0m\n",
      "\u001b[32m[I 2023-10-05 16:40:28,995]\u001b[0m Trial 1 finished with value: 0.07234042553191489 and parameters: {'assume_centered': True, 'support_fraction': 0.9219721978323695}. Best is trial 1 with value: 0.07234042553191489.\u001b[0m\n",
      "\u001b[32m[I 2023-10-05 16:40:29,196]\u001b[0m Trial 0 finished with value: 0.9063829787234042 and parameters: {'assume_centered': False, 'support_fraction': 0.9454817383636683}. Best is trial 0 with value: 0.9063829787234042.\u001b[0m\n",
      "\u001b[32m[I 2023-10-05 16:40:30,790]\u001b[0m Trial 2 finished with value: 0.04680851063829787 and parameters: {'assume_centered': True, 'support_fraction': 0.05526227755415958}. Best is trial 0 with value: 0.9063829787234042.\u001b[0m\n",
      "\u001b[32m[I 2023-10-05 16:40:32,844]\u001b[0m Trial 4 finished with value: 0.04680851063829787 and parameters: {'assume_centered': True, 'support_fraction': 0.5810456201752249}. Best is trial 0 with value: 0.9063829787234042.\u001b[0m\n",
      "\u001b[32m[I 2023-10-05 16:40:32,907]\u001b[0m Trial 3 finished with value: 0.9063829787234042 and parameters: {'assume_centered': False, 'support_fraction': 0.8028290984028574}. Best is trial 0 with value: 0.9063829787234042.\u001b[0m\n",
      "\u001b[32m[I 2023-10-05 16:40:35,257]\u001b[0m Trial 5 finished with value: 0.09787234042553192 and parameters: {'assume_centered': True, 'support_fraction': 0.39023753574728504}. Best is trial 0 with value: 0.9063829787234042.\u001b[0m\n",
      "\u001b[32m[I 2023-10-05 16:40:35,394]\u001b[0m Trial 6 finished with value: 0.0 and parameters: {'assume_centered': False, 'support_fraction': 0.6016635758275439}. Best is trial 0 with value: 0.9063829787234042.\u001b[0m\n",
      "\u001b[32m[I 2023-10-05 16:40:37,731]\u001b[0m Trial 8 finished with value: 0.0 and parameters: {'assume_centered': False, 'support_fraction': 0.5654512948453069}. Best is trial 0 with value: 0.9063829787234042.\u001b[0m\n",
      "\u001b[32m[I 2023-10-05 16:40:39,749]\u001b[0m Trial 9 finished with value: 0.04680851063829787 and parameters: {'assume_centered': True, 'support_fraction': 0.40655122351426476}. Best is trial 0 with value: 0.9063829787234042.\u001b[0m\n",
      "\u001b[32m[I 2023-10-05 16:40:41,333]\u001b[0m Trial 7 finished with value: 0.9063829787234042 and parameters: {'assume_centered': False, 'support_fraction': 0.8995181245340647}. Best is trial 0 with value: 0.9063829787234042.\u001b[0m\n",
      "\u001b[32m[I 2023-10-05 16:40:41,488]\u001b[0m Trial 10 finished with value: 0.04680851063829787 and parameters: {'assume_centered': True, 'support_fraction': 0.28529362950019643}. Best is trial 0 with value: 0.9063829787234042.\u001b[0m\n",
      "\u001b[32m[I 2023-10-05 16:40:44,818]\u001b[0m Trial 12 finished with value: 0.9063829787234042 and parameters: {'assume_centered': False, 'support_fraction': 0.8149257907816232}. Best is trial 0 with value: 0.9063829787234042.\u001b[0m\n",
      "\u001b[32m[I 2023-10-05 16:40:47,507]\u001b[0m Trial 11 finished with value: 0.029787234042553193 and parameters: {'assume_centered': False, 'support_fraction': 0.9837544049164786}. Best is trial 0 with value: 0.9063829787234042.\u001b[0m\n",
      "\u001b[32m[I 2023-10-05 16:40:47,545]\u001b[0m Trial 13 finished with value: 0.9148936170212766 and parameters: {'assume_centered': False, 'support_fraction': 0.7667908724831847}. Best is trial 13 with value: 0.9148936170212766.\u001b[0m\n",
      "\u001b[32m[I 2023-10-05 16:40:50,541]\u001b[0m Trial 15 finished with value: 0.04680851063829787 and parameters: {'assume_centered': False, 'support_fraction': 0.7272280500378633}. Best is trial 13 with value: 0.9148936170212766.\u001b[0m\n",
      "\u001b[32m[I 2023-10-05 16:40:50,646]\u001b[0m Trial 14 finished with value: 0.9148936170212766 and parameters: {'assume_centered': False, 'support_fraction': 0.7630978947745003}. Best is trial 13 with value: 0.9148936170212766.\u001b[0m\n",
      "\u001b[32m[I 2023-10-05 16:40:53,238]\u001b[0m Trial 17 finished with value: 0.0 and parameters: {'assume_centered': False, 'support_fraction': 0.6724132491562234}. Best is trial 13 with value: 0.9148936170212766.\u001b[0m\n",
      "\u001b[32m[I 2023-10-05 16:40:55,197]\u001b[0m Trial 16 finished with value: 0.029787234042553193 and parameters: {'assume_centered': False, 'support_fraction': 0.9937890410503868}. Best is trial 13 with value: 0.9148936170212766.\u001b[0m\n",
      "\u001b[32m[I 2023-10-05 16:40:56,103]\u001b[0m Trial 18 finished with value: 0.04680851063829787 and parameters: {'assume_centered': False, 'support_fraction': 0.7540877838733785}. Best is trial 13 with value: 0.9148936170212766.\u001b[0m\n",
      "\u001b[32m[I 2023-10-05 16:40:57,208]\u001b[0m Trial 19 finished with value: 0.9191489361702128 and parameters: {'assume_centered': False, 'support_fraction': 0.7465093332900095}. Best is trial 19 with value: 0.9191489361702128.\u001b[0m\n"
     ]
    },
    {
     "name": "stdout",
     "output_type": "stream",
     "text": [
      "Best trial: {'assume_centered': False, 'support_fraction': 0.7465093332900095} => 0.919\n"
     ]
    }
   ],
   "source": [
    "def objective(trial):\n",
    "    try:\n",
    "        trial.set_user_attr('detector', EllipticEnvelope.__name__)\n",
    "        assume_centered = trial.suggest_categorical('assume_centered', [True, False])\n",
    "        support_fraction = trial.suggest_float('support_fraction', 0.0, 1.0)\n",
    "        clf = EllipticEnvelope(assume_centered=assume_centered, support_fraction=support_fraction, random_state=CFG_SEED)\n",
    "        clf.fit(X_train)\n",
    "        y_pred = clf.predict(X_test)\n",
    "        score = accuracy_count_score(y_pred)\n",
    "        return score\n",
    "    except:\n",
    "        raise optuna.TrialPruned()\n",
    "\n",
    "study = optuna.create_study(direction='maximize')\n",
    "study.optimize(objective, n_trials=CFG_N_TRIALS, n_jobs=CFG_N_JOBS)\n",
    "print(f'Best trial: {study.best_trial.params} => {study.best_trial.values[0]:.3f}')\n",
    "\n",
    "clf_name = study.best_trial.user_attrs['detector']\n",
    "detection_results[clf_name] = get_results_statistics(study)"
   ]
  },
  {
   "cell_type": "markdown",
   "id": "00285d6c",
   "metadata": {},
   "source": [
    "#### Isolation Forest"
   ]
  },
  {
   "cell_type": "code",
   "execution_count": 21,
   "id": "716a9101",
   "metadata": {
    "scrolled": true
   },
   "outputs": [
    {
     "name": "stderr",
     "output_type": "stream",
     "text": [
      "\u001b[32m[I 2023-10-05 16:40:57,226]\u001b[0m A new study created in memory with name: no-name-3f126553-a122-4c65-915d-16d03f46e732\u001b[0m\n",
      "\u001b[32m[I 2023-10-05 16:40:57,362]\u001b[0m Trial 1 finished with value: 0.9361702127659575 and parameters: {'n_estimators': 34, 'max_samples': 0.1, 'max_features': 0.8, 'bootstrap': False}. Best is trial 1 with value: 0.9361702127659575.\u001b[0m\n",
      "\u001b[32m[I 2023-10-05 16:40:57,431]\u001b[0m Trial 2 finished with value: 0.9276595744680851 and parameters: {'n_estimators': 15, 'max_samples': 0.4, 'max_features': 0.5, 'bootstrap': True}. Best is trial 1 with value: 0.9361702127659575.\u001b[0m\n",
      "\u001b[32m[I 2023-10-05 16:40:57,826]\u001b[0m Trial 0 finished with value: 0.9276595744680851 and parameters: {'n_estimators': 175, 'max_samples': 0.2, 'max_features': 0.5, 'bootstrap': True}. Best is trial 1 with value: 0.9361702127659575.\u001b[0m\n",
      "\u001b[32m[I 2023-10-05 16:40:58,152]\u001b[0m Trial 3 finished with value: 0.9063829787234042 and parameters: {'n_estimators': 204, 'max_samples': 0.4, 'max_features': 0.30000000000000004, 'bootstrap': False}. Best is trial 1 with value: 0.9361702127659575.\u001b[0m\n",
      "\u001b[32m[I 2023-10-05 16:40:58,169]\u001b[0m Trial 5 finished with value: 1.0 and parameters: {'n_estimators': 2, 'max_samples': 0.2, 'max_features': 0.1, 'bootstrap': True}. Best is trial 5 with value: 1.0.\u001b[0m\n",
      "\u001b[32m[I 2023-10-05 16:40:58,206]\u001b[0m Trial 6 finished with value: 0.9276595744680851 and parameters: {'n_estimators': 5, 'max_samples': 1.0, 'max_features': 0.6, 'bootstrap': False}. Best is trial 5 with value: 1.0.\u001b[0m\n",
      "\u001b[32m[I 2023-10-05 16:40:59,912]\u001b[0m Trial 7 finished with value: 0.9276595744680851 and parameters: {'n_estimators': 465, 'max_samples': 0.8, 'max_features': 0.4, 'bootstrap': True}. Best is trial 5 with value: 1.0.\u001b[0m\n",
      "\u001b[32m[I 2023-10-05 16:41:00,216]\u001b[0m Trial 8 finished with value: 0.9361702127659575 and parameters: {'n_estimators': 111, 'max_samples': 0.2, 'max_features': 0.7000000000000001, 'bootstrap': True}. Best is trial 5 with value: 1.0.\u001b[0m\n",
      "\u001b[32m[I 2023-10-05 16:41:01,728]\u001b[0m Trial 4 finished with value: 0.9361702127659575 and parameters: {'n_estimators': 608, 'max_samples': 0.9, 'max_features': 0.9, 'bootstrap': False}. Best is trial 5 with value: 1.0.\u001b[0m\n",
      "\u001b[32m[I 2023-10-05 16:41:01,767]\u001b[0m Trial 10 finished with value: 0.9361702127659575 and parameters: {'n_estimators': 4, 'max_samples': 0.5, 'max_features': 0.7000000000000001, 'bootstrap': True}. Best is trial 5 with value: 1.0.\u001b[0m\n",
      "\u001b[32m[I 2023-10-05 16:41:01,789]\u001b[0m Trial 11 finished with value: 1.0 and parameters: {'n_estimators': 1, 'max_samples': 0.7000000000000001, 'max_features': 0.1, 'bootstrap': True}. Best is trial 5 with value: 1.0.\u001b[0m\n",
      "\u001b[32m[I 2023-10-05 16:41:01,812]\u001b[0m Trial 12 finished with value: 1.0 and parameters: {'n_estimators': 1, 'max_samples': 0.7000000000000001, 'max_features': 0.1, 'bootstrap': True}. Best is trial 5 with value: 1.0.\u001b[0m\n",
      "\u001b[32m[I 2023-10-05 16:41:01,835]\u001b[0m Trial 13 finished with value: 1.0 and parameters: {'n_estimators': 1, 'max_samples': 0.7000000000000001, 'max_features': 0.1, 'bootstrap': True}. Best is trial 5 with value: 1.0.\u001b[0m\n",
      "\u001b[32m[I 2023-10-05 16:41:01,857]\u001b[0m Trial 14 finished with value: 1.0 and parameters: {'n_estimators': 1, 'max_samples': 0.6, 'max_features': 0.2, 'bootstrap': True}. Best is trial 5 with value: 1.0.\u001b[0m\n",
      "\u001b[32m[I 2023-10-05 16:41:01,899]\u001b[0m Trial 15 finished with value: 0.7489361702127659 and parameters: {'n_estimators': 3, 'max_samples': 0.30000000000000004, 'max_features': 0.30000000000000004, 'bootstrap': True}. Best is trial 5 with value: 1.0.\u001b[0m\n",
      "\u001b[32m[I 2023-10-05 16:41:01,930]\u001b[0m Trial 16 finished with value: 1.0 and parameters: {'n_estimators': 2, 'max_samples': 0.6, 'max_features': 0.1, 'bootstrap': True}. Best is trial 5 with value: 1.0.\u001b[0m\n",
      "\u001b[32m[I 2023-10-05 16:41:01,980]\u001b[0m Trial 17 finished with value: 0.8978723404255319 and parameters: {'n_estimators': 6, 'max_samples': 0.1, 'max_features': 0.30000000000000004, 'bootstrap': True}. Best is trial 5 with value: 1.0.\u001b[0m\n",
      "\u001b[32m[I 2023-10-05 16:41:02,017]\u001b[0m Trial 18 finished with value: 0.37446808510638296 and parameters: {'n_estimators': 2, 'max_samples': 0.5, 'max_features': 1.0, 'bootstrap': True}. Best is trial 5 with value: 1.0.\u001b[0m\n",
      "\u001b[32m[I 2023-10-05 16:41:02,101]\u001b[0m Trial 19 finished with value: 0.00851063829787234 and parameters: {'n_estimators': 13, 'max_samples': 0.8, 'max_features': 0.2, 'bootstrap': False}. Best is trial 5 with value: 1.0.\u001b[0m\n",
      "\u001b[32m[I 2023-10-05 16:41:02,475]\u001b[0m Trial 9 finished with value: 0.9276595744680851 and parameters: {'n_estimators': 841, 'max_samples': 0.1, 'max_features': 0.4, 'bootstrap': False}. Best is trial 5 with value: 1.0.\u001b[0m\n"
     ]
    },
    {
     "name": "stdout",
     "output_type": "stream",
     "text": [
      "Best trial: {'n_estimators': 2, 'max_samples': 0.2, 'max_features': 0.1, 'bootstrap': True} => 1.000\n"
     ]
    }
   ],
   "source": [
    "def objective(trial):\n",
    "    try:\n",
    "        trial.set_user_attr('detector', IsolationForest.__name__)\n",
    "        n_estimators = trial.suggest_int('n_estimators', 1, 1024, log=True)\n",
    "        max_samples = trial.suggest_float('max_samples', 0.1, 1.0, step=0.1)\n",
    "        max_features = trial.suggest_float('max_features', 0.1, 1.0, step=0.1)\n",
    "        bootstrap = trial.suggest_categorical('bootstrap', [True, False])\n",
    "        clf = IsolationForest(n_estimators=n_estimators, max_samples=max_samples,\n",
    "                              max_features=max_features, bootstrap=bootstrap,\n",
    "                              n_jobs=CFG_N_JOBS, random_state=CFG_SEED)\n",
    "        clf.fit(X_train)\n",
    "        y_pred = clf.predict(X_test)\n",
    "        score = accuracy_count_score(y_pred)\n",
    "        return score\n",
    "    except:\n",
    "        raise optuna.TrialPruned()\n",
    "\n",
    "study = optuna.create_study(direction='maximize')\n",
    "study.optimize(objective, n_trials=CFG_N_TRIALS, n_jobs=CFG_N_JOBS)\n",
    "print(f'Best trial: {study.best_trial.params} => {study.best_trial.values[0]:.3f}')\n",
    "\n",
    "clf_name = study.best_trial.user_attrs['detector']\n",
    "detection_results[clf_name] = get_results_statistics(study)"
   ]
  },
  {
   "cell_type": "markdown",
   "id": "99970bbf",
   "metadata": {},
   "source": [
    "#### Local Outlier Factor"
   ]
  },
  {
   "cell_type": "code",
   "execution_count": 22,
   "id": "8cce9bf3",
   "metadata": {},
   "outputs": [
    {
     "name": "stderr",
     "output_type": "stream",
     "text": [
      "\u001b[32m[I 2023-10-05 16:41:02,486]\u001b[0m A new study created in memory with name: no-name-4541c50b-d736-443a-8070-11efdd212c91\u001b[0m\n",
      "\u001b[32m[I 2023-10-05 16:41:02,862]\u001b[0m Trial 0 finished with value: 0.6085106382978723 and parameters: {'n_neighbors': 1, 'algorithm': 'kd_tree', 'leaf_size': 5}. Best is trial 0 with value: 0.6085106382978723.\u001b[0m\n",
      "\u001b[32m[I 2023-10-05 16:41:03,069]\u001b[0m Trial 2 finished with value: 0.6085106382978723 and parameters: {'n_neighbors': 1, 'algorithm': 'ball_tree', 'leaf_size': 1}. Best is trial 0 with value: 0.6085106382978723.\u001b[0m\n",
      "\u001b[32m[I 2023-10-05 16:41:18,927]\u001b[0m Trial 3 finished with value: 0.6085106382978723 and parameters: {'n_neighbors': 1, 'algorithm': 'brute', 'leaf_size': 3}. Best is trial 0 with value: 0.6085106382978723.\u001b[0m\n",
      "\u001b[32m[I 2023-10-05 16:41:33,148]\u001b[0m Trial 1 finished with value: 0.0 and parameters: {'n_neighbors': 1823, 'algorithm': 'brute', 'leaf_size': 2}. Best is trial 0 with value: 0.6085106382978723.\u001b[0m\n",
      "\u001b[32m[I 2023-10-05 16:41:33,328]\u001b[0m Trial 5 finished with value: 0.00851063829787234 and parameters: {'n_neighbors': 21, 'algorithm': 'kd_tree', 'leaf_size': 6}. Best is trial 0 with value: 0.6085106382978723.\u001b[0m\n",
      "\u001b[32m[I 2023-10-05 16:41:33,704]\u001b[0m Trial 6 finished with value: 0.0 and parameters: {'n_neighbors': 124, 'algorithm': 'kd_tree', 'leaf_size': 30}. Best is trial 0 with value: 0.6085106382978723.\u001b[0m\n",
      "\u001b[32m[I 2023-10-05 16:41:34,969]\u001b[0m Trial 7 finished with value: 0.0 and parameters: {'n_neighbors': 337, 'algorithm': 'ball_tree', 'leaf_size': 65}. Best is trial 0 with value: 0.6085106382978723.\u001b[0m\n",
      "\u001b[32m[I 2023-10-05 16:41:40,441]\u001b[0m Trial 4 finished with value: 0.0 and parameters: {'n_neighbors': 234, 'algorithm': 'brute', 'leaf_size': 5}. Best is trial 0 with value: 0.6085106382978723.\u001b[0m\n",
      "\u001b[32m[I 2023-10-05 16:41:40,595]\u001b[0m Trial 9 finished with value: 0.00851063829787234 and parameters: {'n_neighbors': 23, 'algorithm': 'ball_tree', 'leaf_size': 1}. Best is trial 0 with value: 0.6085106382978723.\u001b[0m\n",
      "\u001b[32m[I 2023-10-05 16:41:40,841]\u001b[0m Trial 10 finished with value: 0.0 and parameters: {'n_neighbors': 48, 'algorithm': 'kd_tree', 'leaf_size': 12}. Best is trial 0 with value: 0.6085106382978723.\u001b[0m\n",
      "\u001b[32m[I 2023-10-05 16:41:41,007]\u001b[0m Trial 11 finished with value: 0.37872340425531914 and parameters: {'n_neighbors': 3, 'algorithm': 'kd_tree', 'leaf_size': 392}. Best is trial 0 with value: 0.6085106382978723.\u001b[0m\n",
      "\u001b[32m[I 2023-10-05 16:41:41,124]\u001b[0m Trial 12 finished with value: 0.6085106382978723 and parameters: {'n_neighbors': 1, 'algorithm': 'ball_tree', 'leaf_size': 1}. Best is trial 0 with value: 0.6085106382978723.\u001b[0m\n",
      "\u001b[32m[I 2023-10-05 16:41:41,250]\u001b[0m Trial 13 finished with value: 0.2765957446808511 and parameters: {'n_neighbors': 4, 'algorithm': 'ball_tree', 'leaf_size': 1}. Best is trial 0 with value: 0.6085106382978723.\u001b[0m\n",
      "\u001b[32m[I 2023-10-05 16:41:41,318]\u001b[0m Trial 8 finished with value: 0.0 and parameters: {'n_neighbors': 2244, 'algorithm': 'kd_tree', 'leaf_size': 58}. Best is trial 0 with value: 0.6085106382978723.\u001b[0m\n",
      "\u001b[32m[I 2023-10-05 16:41:42,208]\u001b[0m Trial 14 finished with value: 0.17872340425531916 and parameters: {'n_neighbors': 5, 'algorithm': 'ball_tree', 'leaf_size': 3070}. Best is trial 0 with value: 0.6085106382978723.\u001b[0m\n",
      "\u001b[32m[I 2023-10-05 16:41:42,295]\u001b[0m Trial 16 finished with value: 0.6085106382978723 and parameters: {'n_neighbors': 1, 'algorithm': 'kd_tree', 'leaf_size': 10}. Best is trial 0 with value: 0.6085106382978723.\u001b[0m\n",
      "\u001b[32m[I 2023-10-05 16:41:42,379]\u001b[0m Trial 17 finished with value: 0.09361702127659574 and parameters: {'n_neighbors': 7, 'algorithm': 'ball_tree', 'leaf_size': 2}. Best is trial 0 with value: 0.6085106382978723.\u001b[0m\n",
      "\u001b[32m[I 2023-10-05 16:41:42,455]\u001b[0m Trial 18 finished with value: 0.5617021276595745 and parameters: {'n_neighbors': 2, 'algorithm': 'ball_tree', 'leaf_size': 1}. Best is trial 0 with value: 0.6085106382978723.\u001b[0m\n",
      "\u001b[32m[I 2023-10-05 16:41:42,560]\u001b[0m Trial 19 finished with value: 0.6085106382978723 and parameters: {'n_neighbors': 1, 'algorithm': 'kd_tree', 'leaf_size': 3}. Best is trial 0 with value: 0.6085106382978723.\u001b[0m\n",
      "\u001b[32m[I 2023-10-05 16:41:43,161]\u001b[0m Trial 15 finished with value: 0.11063829787234042 and parameters: {'n_neighbors': 6, 'algorithm': 'ball_tree', 'leaf_size': 3835}. Best is trial 0 with value: 0.6085106382978723.\u001b[0m\n"
     ]
    },
    {
     "name": "stdout",
     "output_type": "stream",
     "text": [
      "Best trial: {'n_neighbors': 1, 'algorithm': 'kd_tree', 'leaf_size': 5} => 0.609\n"
     ]
    }
   ],
   "source": [
    "def objective(trial):\n",
    "    try:\n",
    "        trial.set_user_attr('detector', LocalOutlierFactor.__name__)\n",
    "        n_neighbors = trial.suggest_int('n_neighbors', 1, 4096, log=True)\n",
    "        algorithm = trial.suggest_categorical('algorithm', ['ball_tree', 'kd_tree', 'brute'])\n",
    "        leaf_size = trial.suggest_int('leaf_size', 1, 4096, log=True)\n",
    "        clf = LocalOutlierFactor(n_neighbors=n_neighbors, algorithm=algorithm, \n",
    "                                 leaf_size=leaf_size, novelty=True, n_jobs=CFG_N_JOBS)\n",
    "        clf.fit(X_train)\n",
    "        y_pred = clf.predict(X_test)\n",
    "        score = accuracy_count_score(y_pred)\n",
    "        return score\n",
    "    except:\n",
    "        raise optuna.TrialPruned()\n",
    "\n",
    "study = optuna.create_study(direction='maximize')\n",
    "study.optimize(objective, n_trials=CFG_N_TRIALS, n_jobs=CFG_N_JOBS)\n",
    "print(f'Best trial: {study.best_trial.params} => {study.best_trial.values[0]:.3f}')\n",
    "\n",
    "clf_name = study.best_trial.user_attrs['detector']\n",
    "completed_trials = filter_completed_trials(study.trials)\n",
    "detection_results[clf_name] = get_results_statistics(study)"
   ]
  },
  {
   "cell_type": "markdown",
   "id": "a2baeb3d",
   "metadata": {},
   "source": [
    "#### One Class SVM (SGD)"
   ]
  },
  {
   "cell_type": "code",
   "execution_count": 23,
   "id": "c9544b43",
   "metadata": {
    "scrolled": true
   },
   "outputs": [
    {
     "name": "stderr",
     "output_type": "stream",
     "text": [
      "\u001b[32m[I 2023-10-05 16:41:43,173]\u001b[0m A new study created in memory with name: no-name-331a87d2-e990-4fcf-a1a0-ab9742b30529\u001b[0m\n",
      "\u001b[32m[I 2023-10-05 16:41:43,372]\u001b[0m Trial 0 finished with value: 0.0 and parameters: {'kernel_gamma': 0.45, 'kernel_n_components': 85, 'sgd_nu': 0.55}. Best is trial 0 with value: 0.0.\u001b[0m\n",
      "\u001b[32m[I 2023-10-05 16:41:43,374]\u001b[0m Trial 1 finished with value: 0.0 and parameters: {'kernel_gamma': 0.9500000000000001, 'kernel_n_components': 90, 'sgd_nu': 0.5}. Best is trial 0 with value: 0.0.\u001b[0m\n",
      "\u001b[32m[I 2023-10-05 16:41:43,590]\u001b[0m Trial 3 finished with value: 1.0 and parameters: {'kernel_gamma': 0.35000000000000003, 'kernel_n_components': 100, 'sgd_nu': 0.3}. Best is trial 3 with value: 1.0.\u001b[0m\n",
      "\u001b[32m[I 2023-10-05 16:41:43,612]\u001b[0m Trial 2 finished with value: 0.0 and parameters: {'kernel_gamma': 0.1, 'kernel_n_components': 105, 'sgd_nu': 0.35000000000000003}. Best is trial 3 with value: 1.0.\u001b[0m\n",
      "\u001b[32m[I 2023-10-05 16:41:43,756]\u001b[0m Trial 5 finished with value: 1.0 and parameters: {'kernel_gamma': 0.6000000000000001, 'kernel_n_components': 70, 'sgd_nu': 0.7500000000000001}. Best is trial 3 with value: 1.0.\u001b[0m\n",
      "\u001b[32m[I 2023-10-05 16:41:43,909]\u001b[0m Trial 4 finished with value: 0.0 and parameters: {'kernel_gamma': 0.4, 'kernel_n_components': 150, 'sgd_nu': 0.45}. Best is trial 3 with value: 1.0.\u001b[0m\n",
      "\u001b[32m[I 2023-10-05 16:41:43,962]\u001b[0m Trial 6 finished with value: 1.0 and parameters: {'kernel_gamma': 0.35000000000000003, 'kernel_n_components': 100, 'sgd_nu': 0.7500000000000001}. Best is trial 3 with value: 1.0.\u001b[0m\n",
      "\u001b[32m[I 2023-10-05 16:41:44,089]\u001b[0m Trial 8 finished with value: 1.0 and parameters: {'kernel_gamma': 0.9000000000000001, 'kernel_n_components': 60, 'sgd_nu': 0.9000000000000001}. Best is trial 3 with value: 1.0.\u001b[0m\n",
      "\u001b[32m[I 2023-10-05 16:41:44,176]\u001b[0m Trial 7 finished with value: 1.0 and parameters: {'kernel_gamma': 0.25, 'kernel_n_components': 120, 'sgd_nu': 0.7500000000000001}. Best is trial 3 with value: 1.0.\u001b[0m\n",
      "\u001b[32m[I 2023-10-05 16:41:44,228]\u001b[0m Trial 9 finished with value: 0.0 and parameters: {'kernel_gamma': 0.05, 'kernel_n_components': 50, 'sgd_nu': 0.55}. Best is trial 3 with value: 1.0.\u001b[0m\n",
      "\u001b[32m[I 2023-10-05 16:41:44,446]\u001b[0m Trial 10 finished with value: 0.0 and parameters: {'kernel_gamma': 0.2, 'kernel_n_components': 125, 'sgd_nu': 0.6000000000000001}. Best is trial 3 with value: 1.0.\u001b[0m\n",
      "\u001b[32m[I 2023-10-05 16:41:44,504]\u001b[0m Trial 11 finished with value: 0.0 and parameters: {'kernel_gamma': 0.6500000000000001, 'kernel_n_components': 130, 'sgd_nu': 0.05}. Best is trial 3 with value: 1.0.\u001b[0m\n",
      "\u001b[32m[I 2023-10-05 16:41:44,583]\u001b[0m Trial 12 finished with value: 0.0 and parameters: {'kernel_gamma': 0.6500000000000001, 'kernel_n_components': 70, 'sgd_nu': 0.15000000000000002}. Best is trial 3 with value: 1.0.\u001b[0m\n",
      "\u001b[32m[I 2023-10-05 16:41:44,642]\u001b[0m Trial 13 finished with value: 0.0 and parameters: {'kernel_gamma': 0.6000000000000001, 'kernel_n_components': 70, 'sgd_nu': 0.2}. Best is trial 3 with value: 1.0.\u001b[0m\n",
      "\u001b[32m[I 2023-10-05 16:41:44,729]\u001b[0m Trial 14 finished with value: 0.0 and parameters: {'kernel_gamma': 0.6000000000000001, 'kernel_n_components': 75, 'sgd_nu': 0.25}. Best is trial 3 with value: 1.0.\u001b[0m\n",
      "\u001b[32m[I 2023-10-05 16:41:44,808]\u001b[0m Trial 15 finished with value: 1.0 and parameters: {'kernel_gamma': 0.7500000000000001, 'kernel_n_components': 80, 'sgd_nu': 1.0}. Best is trial 3 with value: 1.0.\u001b[0m\n",
      "\u001b[32m[I 2023-10-05 16:41:44,954]\u001b[0m Trial 16 finished with value: 1.0 and parameters: {'kernel_gamma': 0.7500000000000001, 'kernel_n_components': 105, 'sgd_nu': 0.9500000000000001}. Best is trial 3 with value: 1.0.\u001b[0m\n",
      "\u001b[32m[I 2023-10-05 16:41:45,026]\u001b[0m Trial 17 finished with value: 1.0 and parameters: {'kernel_gamma': 0.8, 'kernel_n_components': 105, 'sgd_nu': 0.7500000000000001}. Best is trial 3 with value: 1.0.\u001b[0m\n",
      "\u001b[32m[I 2023-10-05 16:41:45,073]\u001b[0m Trial 18 finished with value: 1.0 and parameters: {'kernel_gamma': 0.5, 'kernel_n_components': 50, 'sgd_nu': 0.7000000000000001}. Best is trial 3 with value: 1.0.\u001b[0m\n",
      "\u001b[32m[I 2023-10-05 16:41:45,128]\u001b[0m Trial 19 finished with value: 1.0 and parameters: {'kernel_gamma': 0.5, 'kernel_n_components': 50, 'sgd_nu': 0.4}. Best is trial 3 with value: 1.0.\u001b[0m\n"
     ]
    },
    {
     "name": "stdout",
     "output_type": "stream",
     "text": [
      "Best trial: {'kernel_gamma': 0.35000000000000003, 'kernel_n_components': 100, 'sgd_nu': 0.3} => 1.000\n"
     ]
    }
   ],
   "source": [
    "def objective(trial):\n",
    "    try:\n",
    "        trial.set_user_attr('detector', SGDOneClassSVM.__name__)\n",
    "        gamma = trial.suggest_float('kernel_gamma', 0.05, 1, step=0.05)\n",
    "        n_components = trial.suggest_int('kernel_n_components', 50, 150, step=5)\n",
    "        nu = trial.suggest_float('sgd_nu', 0.05, 1, step=0.05)\n",
    "        clf = make_pipeline(\n",
    "            Nystroem(gamma=gamma, n_components=n_components, random_state=CFG_SEED),\n",
    "            SGDOneClassSVM(nu=nu, random_state=CFG_SEED)\n",
    "        )\n",
    "        clf.fit(X_train)\n",
    "        y_pred = clf.predict(X_test)\n",
    "        score = accuracy_count_score(y_pred)\n",
    "        return score\n",
    "    except:\n",
    "        return optuna.TrialPruned()\n",
    "\n",
    "study = optuna.create_study(direction='maximize')\n",
    "study.optimize(objective, n_trials=CFG_N_TRIALS, n_jobs=CFG_N_JOBS)\n",
    "print(f'Best trial: {study.best_trial.params} => {study.best_trial.values[0]:.3f}')\n",
    "\n",
    "clf_name = study.best_trial.user_attrs['detector']\n",
    "completed_trials = filter_completed_trials(study.trials)\n",
    "detection_results[clf_name] = get_results_statistics(study)"
   ]
  },
  {
   "cell_type": "markdown",
   "id": "3a55c4d6",
   "metadata": {},
   "source": [
    "#### Summarize results"
   ]
  },
  {
   "cell_type": "code",
   "execution_count": 24,
   "id": "74a82632",
   "metadata": {},
   "outputs": [
    {
     "data": {
      "text/html": [
       "<div>\n",
       "<style scoped>\n",
       "    .dataframe tbody tr th:only-of-type {\n",
       "        vertical-align: middle;\n",
       "    }\n",
       "\n",
       "    .dataframe tbody tr th {\n",
       "        vertical-align: top;\n",
       "    }\n",
       "\n",
       "    .dataframe thead th {\n",
       "        text-align: right;\n",
       "    }\n",
       "</style>\n",
       "<table border=\"1\" class=\"dataframe\">\n",
       "  <thead>\n",
       "    <tr style=\"text-align: right;\">\n",
       "      <th></th>\n",
       "      <th>EllipticEnvelope</th>\n",
       "      <th>IsolationForest</th>\n",
       "      <th>LocalOutlierFactor</th>\n",
       "      <th>SGDOneClassSVM</th>\n",
       "    </tr>\n",
       "  </thead>\n",
       "  <tbody>\n",
       "    <tr>\n",
       "      <th>score_min</th>\n",
       "      <td>0.000</td>\n",
       "      <td>0.009</td>\n",
       "      <td>0.000</td>\n",
       "      <td>0.000</td>\n",
       "    </tr>\n",
       "    <tr>\n",
       "      <th>score_max</th>\n",
       "      <td>0.919</td>\n",
       "      <td>1.000</td>\n",
       "      <td>0.609</td>\n",
       "      <td>1.000</td>\n",
       "    </tr>\n",
       "    <tr>\n",
       "      <th>score_mean</th>\n",
       "      <td>0.344</td>\n",
       "      <td>0.866</td>\n",
       "      <td>0.263</td>\n",
       "      <td>0.500</td>\n",
       "    </tr>\n",
       "    <tr>\n",
       "      <th>score_std</th>\n",
       "      <td>0.416</td>\n",
       "      <td>0.239</td>\n",
       "      <td>0.267</td>\n",
       "      <td>0.500</td>\n",
       "    </tr>\n",
       "    <tr>\n",
       "      <th>time_min</th>\n",
       "      <td>1.738</td>\n",
       "      <td>0.014</td>\n",
       "      <td>0.075</td>\n",
       "      <td>0.102</td>\n",
       "    </tr>\n",
       "    <tr>\n",
       "      <th>time_max</th>\n",
       "      <td>1.738</td>\n",
       "      <td>0.014</td>\n",
       "      <td>0.075</td>\n",
       "      <td>0.102</td>\n",
       "    </tr>\n",
       "    <tr>\n",
       "      <th>time_mean</th>\n",
       "      <td>3.242</td>\n",
       "      <td>0.504</td>\n",
       "      <td>4.035</td>\n",
       "      <td>0.191</td>\n",
       "    </tr>\n",
       "    <tr>\n",
       "      <th>time_std</th>\n",
       "      <td>1.342</td>\n",
       "      <td>0.978</td>\n",
       "      <td>8.292</td>\n",
       "      <td>0.060</td>\n",
       "    </tr>\n",
       "  </tbody>\n",
       "</table>\n",
       "</div>"
      ],
      "text/plain": [
       "            EllipticEnvelope  IsolationForest  LocalOutlierFactor   \n",
       "score_min              0.000            0.009               0.000  \\\n",
       "score_max              0.919            1.000               0.609   \n",
       "score_mean             0.344            0.866               0.263   \n",
       "score_std              0.416            0.239               0.267   \n",
       "time_min               1.738            0.014               0.075   \n",
       "time_max               1.738            0.014               0.075   \n",
       "time_mean              3.242            0.504               4.035   \n",
       "time_std               1.342            0.978               8.292   \n",
       "\n",
       "            SGDOneClassSVM  \n",
       "score_min            0.000  \n",
       "score_max            1.000  \n",
       "score_mean           0.500  \n",
       "score_std            0.500  \n",
       "time_min             0.102  \n",
       "time_max             0.102  \n",
       "time_mean            0.191  \n",
       "time_std             0.060  "
      ]
     },
     "execution_count": 24,
     "metadata": {},
     "output_type": "execute_result"
    }
   ],
   "source": [
    "pd.DataFrame.from_dict(detection_results).round(3)"
   ]
  },
  {
   "cell_type": "markdown",
   "id": "33de387e",
   "metadata": {},
   "source": [
    "# Classification"
   ]
  },
  {
   "cell_type": "code",
   "execution_count": 25,
   "id": "1e850455",
   "metadata": {},
   "outputs": [],
   "source": [
    "classification_results = {}"
   ]
  },
  {
   "cell_type": "code",
   "execution_count": 26,
   "id": "dee4ec58",
   "metadata": {},
   "outputs": [],
   "source": [
    "holdout_class = dict((v, k) for k, v in reverse_mappings.items())[CFG_SCENARIO]\n",
    "holdout_indices = (y == holdout_class)\n",
    "\n",
    "X = X.drop(index=y.index[holdout_indices])\n",
    "y = y.drop(index=y.index[holdout_indices])"
   ]
  },
  {
   "cell_type": "code",
   "execution_count": 27,
   "id": "18f75278",
   "metadata": {
    "scrolled": true
   },
   "outputs": [
    {
     "name": "stdout",
     "output_type": "stream",
     "text": [
      "\n",
      "Train data before resampling: (21078, 9) (21078,) \n",
      "\n",
      "       counts      %\n",
      "label               \n",
      "0       11592  55.0%\n",
      "1        8123  38.5%\n",
      "2         809   3.8%\n",
      "3         554   2.6%\n",
      "\n",
      "Train data after resampling: (43776, 9) (43776,) \n",
      "\n",
      "       counts      %\n",
      "label               \n",
      "3       11197  25.6%\n",
      "1       11168  25.5%\n",
      "2       10872  24.8%\n",
      "0       10539  24.1%\n"
     ]
    }
   ],
   "source": [
    "X_train, X_test, y_train, y_test = train_test_split(X[fwiz.features], y, test_size=0.2, random_state=CFG_SEED)\n",
    "\n",
    "print('\\nTrain data before resampling:', X_train.shape, y_train.shape, '\\n')\n",
    "pretty_print_value_counts(y_train)\n",
    "\n",
    "X_train, y_train = SMOTETomek(n_jobs=CFG_N_JOBS, random_state=CFG_SEED).fit_resample(X_train, y_train)\n",
    "\n",
    "print('\\nTrain data after resampling:', X_train.shape, y_train.shape, '\\n')\n",
    "pretty_print_value_counts(y_train)"
   ]
  },
  {
   "cell_type": "markdown",
   "id": "bd5770fd",
   "metadata": {},
   "source": [
    "#### Decision Tree"
   ]
  },
  {
   "cell_type": "code",
   "execution_count": 28,
   "id": "8d109808",
   "metadata": {},
   "outputs": [
    {
     "name": "stderr",
     "output_type": "stream",
     "text": [
      "\u001b[32m[I 2023-10-05 16:41:45,396]\u001b[0m A new study created in memory with name: no-name-a76d97a3-d2e9-4ab3-a065-735c26b0ad76\u001b[0m\n",
      "\u001b[32m[I 2023-10-05 16:41:45,430]\u001b[0m Trial 0 finished with value: 0.9461100569259963 and parameters: {'max_depth': 9, 'min_samples_split': 7, 'min_samples_leaf': 10, 'max_features': 'auto', 'criterion': 'gini'}. Best is trial 0 with value: 0.9461100569259963.\u001b[0m\n",
      "\u001b[32m[I 2023-10-05 16:41:45,445]\u001b[0m Trial 1 finished with value: 0.9495256166982923 and parameters: {'max_depth': 4, 'min_samples_split': 4, 'min_samples_leaf': 3, 'max_features': None, 'criterion': 'entropy'}. Best is trial 1 with value: 0.9495256166982923.\u001b[0m\n",
      "\u001b[32m[I 2023-10-05 16:41:45,483]\u001b[0m Trial 2 finished with value: 0.9453510436432637 and parameters: {'max_depth': 9, 'min_samples_split': 10, 'min_samples_leaf': 4, 'max_features': None, 'criterion': 'gini'}. Best is trial 1 with value: 0.9495256166982923.\u001b[0m\n",
      "\u001b[32m[I 2023-10-05 16:41:45,503]\u001b[0m Trial 3 finished with value: 0.9466793168880455 and parameters: {'max_depth': 9, 'min_samples_split': 3, 'min_samples_leaf': 2, 'max_features': None, 'criterion': 'entropy'}. Best is trial 1 with value: 0.9495256166982923.\u001b[0m\n",
      "\u001b[32m[I 2023-10-05 16:41:45,508]\u001b[0m Trial 4 finished with value: 0.920303605313093 and parameters: {'max_depth': 6, 'min_samples_split': 3, 'min_samples_leaf': 5, 'max_features': 'sqrt', 'criterion': 'gini'}. Best is trial 1 with value: 0.9495256166982923.\u001b[0m\n",
      "\u001b[32m[I 2023-10-05 16:41:45,538]\u001b[0m Trial 5 finished with value: 0.8855787476280835 and parameters: {'max_depth': 10, 'min_samples_split': 5, 'min_samples_leaf': 8, 'max_features': 'sqrt', 'criterion': 'gini'}. Best is trial 1 with value: 0.9495256166982923.\u001b[0m\n",
      "\u001b[32m[I 2023-10-05 16:41:45,547]\u001b[0m Trial 6 finished with value: 0.8637571157495256 and parameters: {'max_depth': 9, 'min_samples_split': 10, 'min_samples_leaf': 7, 'max_features': 'sqrt', 'criterion': 'entropy'}. Best is trial 1 with value: 0.9495256166982923.\u001b[0m\n",
      "\u001b[32m[I 2023-10-05 16:41:45,568]\u001b[0m Trial 7 finished with value: 0.8339658444022771 and parameters: {'max_depth': 8, 'min_samples_split': 6, 'min_samples_leaf': 9, 'max_features': 'auto', 'criterion': 'gini'}. Best is trial 1 with value: 0.9495256166982923.\u001b[0m\n",
      "\u001b[32m[I 2023-10-05 16:41:45,605]\u001b[0m Trial 8 finished with value: 0.9569259962049336 and parameters: {'max_depth': 6, 'min_samples_split': 9, 'min_samples_leaf': 6, 'max_features': None, 'criterion': 'entropy'}. Best is trial 8 with value: 0.9569259962049336.\u001b[0m\n",
      "\u001b[32m[I 2023-10-05 16:41:45,621]\u001b[0m Trial 9 finished with value: 0.9455407969639469 and parameters: {'max_depth': 9, 'min_samples_split': 6, 'min_samples_leaf': 9, 'max_features': None, 'criterion': 'gini'}. Best is trial 8 with value: 0.9569259962049336.\u001b[0m\n",
      "\u001b[32m[I 2023-10-05 16:41:45,640]\u001b[0m Trial 10 finished with value: 0.9166982922201139 and parameters: {'max_depth': 4, 'min_samples_split': 8, 'min_samples_leaf': 10, 'max_features': 'sqrt', 'criterion': 'entropy'}. Best is trial 8 with value: 0.9569259962049336.\u001b[0m\n",
      "\u001b[32m[I 2023-10-05 16:41:45,654]\u001b[0m Trial 11 finished with value: 0.7599620493358634 and parameters: {'max_depth': 2, 'min_samples_split': 8, 'min_samples_leaf': 6, 'max_features': 'log2', 'criterion': 'entropy'}. Best is trial 8 with value: 0.9569259962049336.\u001b[0m\n",
      "\u001b[32m[I 2023-10-05 16:41:45,678]\u001b[0m Trial 12 finished with value: 0.7599620493358634 and parameters: {'max_depth': 2, 'min_samples_split': 4, 'min_samples_leaf': 2, 'max_features': 'log2', 'criterion': 'entropy'}. Best is trial 8 with value: 0.9569259962049336.\u001b[0m\n",
      "\u001b[32m[I 2023-10-05 16:41:45,716]\u001b[0m Trial 13 finished with value: 0.9421252371916509 and parameters: {'max_depth': 5, 'min_samples_split': 4, 'min_samples_leaf': 2, 'max_features': None, 'criterion': 'entropy'}. Best is trial 8 with value: 0.9569259962049336.\u001b[0m\n",
      "\u001b[32m[I 2023-10-05 16:41:45,740]\u001b[0m Trial 14 finished with value: 0.9419354838709677 and parameters: {'max_depth': 5, 'min_samples_split': 2, 'min_samples_leaf': 4, 'max_features': None, 'criterion': 'entropy'}. Best is trial 8 with value: 0.9569259962049336.\u001b[0m\n",
      "\u001b[32m[I 2023-10-05 16:41:45,772]\u001b[0m Trial 15 finished with value: 0.9493358633776091 and parameters: {'max_depth': 4, 'min_samples_split': 2, 'min_samples_leaf': 4, 'max_features': None, 'criterion': 'entropy'}. Best is trial 8 with value: 0.9569259962049336.\u001b[0m\n",
      "\u001b[32m[I 2023-10-05 16:41:45,813]\u001b[0m Trial 16 finished with value: 0.8817836812144213 and parameters: {'max_depth': 7, 'min_samples_split': 9, 'min_samples_leaf': 4, 'max_features': None, 'criterion': 'entropy'}. Best is trial 8 with value: 0.9569259962049336.\u001b[0m\n",
      "\u001b[32m[I 2023-10-05 16:41:45,840]\u001b[0m Trial 17 finished with value: 0.881404174573055 and parameters: {'max_depth': 7, 'min_samples_split': 9, 'min_samples_leaf': 6, 'max_features': None, 'criterion': 'entropy'}. Best is trial 8 with value: 0.9569259962049336.\u001b[0m\n",
      "\u001b[32m[I 2023-10-05 16:41:45,862]\u001b[0m Trial 18 finished with value: 0.9068311195445921 and parameters: {'max_depth': 3, 'min_samples_split': 5, 'min_samples_leaf': 1, 'max_features': None, 'criterion': 'entropy'}. Best is trial 8 with value: 0.9569259962049336.\u001b[0m\n",
      "\u001b[32m[I 2023-10-05 16:41:45,870]\u001b[0m Trial 19 finished with value: 0.8595825426944972 and parameters: {'max_depth': 3, 'min_samples_split': 5, 'min_samples_leaf': 1, 'max_features': 'log2', 'criterion': 'entropy'}. Best is trial 8 with value: 0.9569259962049336.\u001b[0m\n"
     ]
    },
    {
     "name": "stdout",
     "output_type": "stream",
     "text": [
      "Best trial: {'max_depth': 6, 'min_samples_split': 9, 'min_samples_leaf': 6, 'max_features': None, 'criterion': 'entropy'} => 0.957\n"
     ]
    }
   ],
   "source": [
    "def objective(trial):\n",
    "    try:\n",
    "        trial.set_user_attr('classifier', DecisionTreeClassifier.__name__)\n",
    "        max_depth = trial.suggest_int('max_depth', 2, 10)\n",
    "        min_samples_split = trial.suggest_int('min_samples_split', 2, 10)\n",
    "        min_samples_leaf = trial.suggest_int('min_samples_leaf', 1, 10)\n",
    "        max_features = trial.suggest_categorical('max_features', ['auto', 'sqrt', 'log2', None])\n",
    "        criterion = trial.suggest_categorical('criterion', ['gini', 'entropy'])\n",
    "        clf = DecisionTreeClassifier(\n",
    "            max_depth=max_depth,\n",
    "            min_samples_split=min_samples_split,\n",
    "            min_samples_leaf=min_samples_leaf,\n",
    "            max_features=max_features,\n",
    "            criterion=criterion,\n",
    "            random_state=CFG_SEED\n",
    "        )\n",
    "        clf.fit(X_train, y_train)\n",
    "        y_pred = clf.predict(X_test)\n",
    "        score = accuracy_score(y_test, y_pred)\n",
    "        return score\n",
    "    except:\n",
    "        raise optuna.TrialPruned()\n",
    "\n",
    "study = optuna.create_study(direction='maximize')\n",
    "study.optimize(objective, n_trials=CFG_N_TRIALS, n_jobs=CFG_N_JOBS)\n",
    "print(f'Best trial: {study.best_trial.params} => {study.best_trial.values[0]:.3f}')\n",
    "\n",
    "clf_name = study.best_trial.user_attrs['classifier']\n",
    "classification_results[clf_name] = get_results_statistics(study)"
   ]
  },
  {
   "cell_type": "markdown",
   "id": "661bebb5",
   "metadata": {},
   "source": [
    "#### LightGBM"
   ]
  },
  {
   "cell_type": "code",
   "execution_count": 29,
   "id": "dccbd4f0",
   "metadata": {},
   "outputs": [
    {
     "name": "stderr",
     "output_type": "stream",
     "text": [
      "\u001b[32m[I 2023-10-05 16:41:45,895]\u001b[0m A new study created in memory with name: no-name-86919850-14da-4dba-9499-ae50483d1944\u001b[0m\n",
      "\u001b[32m[I 2023-10-05 16:41:46,311]\u001b[0m Trial 0 finished with value: 0.9449715370018975 and parameters: {'learning_rate': 0.1, 'n_estimators': 64, 'max_depth': 7, 'num_leaves': 26, 'min_child_samples': 9, 'subsample': 1.0, 'colsample_bytree': 0.8, 'reg_alpha': 0.9}. Best is trial 0 with value: 0.9449715370018975.\u001b[0m\n",
      "\u001b[32m[I 2023-10-05 16:41:46,460]\u001b[0m Trial 1 finished with value: 0.9521821631878558 and parameters: {'learning_rate': 0.85, 'n_estimators': 143, 'max_depth': 7, 'num_leaves': 34, 'min_child_samples': 16, 'subsample': 0.7, 'colsample_bytree': 0.9, 'reg_alpha': 0.7000000000000001}. Best is trial 1 with value: 0.9521821631878558.\u001b[0m\n",
      "\u001b[32m[I 2023-10-05 16:41:46,715]\u001b[0m Trial 2 finished with value: 0.5351043643263758 and parameters: {'learning_rate': 0.9, 'n_estimators': 109, 'max_depth': 6, 'num_leaves': 79, 'min_child_samples': 6, 'subsample': 0.6, 'colsample_bytree': 0.8, 'reg_alpha': 0.30000000000000004}. Best is trial 1 with value: 0.9521821631878558.\u001b[0m\n",
      "\u001b[32m[I 2023-10-05 16:41:46,915]\u001b[0m Trial 3 finished with value: 0.5538899430740037 and parameters: {'learning_rate': 0.9500000000000001, 'n_estimators': 119, 'max_depth': 7, 'num_leaves': 47, 'min_child_samples': 17, 'subsample': 1.0, 'colsample_bytree': 0.8, 'reg_alpha': 0.0}. Best is trial 1 with value: 0.9521821631878558.\u001b[0m\n",
      "\u001b[32m[I 2023-10-05 16:41:47,025]\u001b[0m Trial 5 finished with value: 0.9478178368121443 and parameters: {'learning_rate': 0.2, 'n_estimators': 12, 'max_depth': 8, 'num_leaves': 94, 'min_child_samples': 4, 'subsample': 0.7, 'colsample_bytree': 0.6, 'reg_alpha': 0.9}. Best is trial 1 with value: 0.9521821631878558.\u001b[0m\n",
      "\u001b[32m[I 2023-10-05 16:41:47,313]\u001b[0m Trial 4 finished with value: 0.9561669829222011 and parameters: {'learning_rate': 0.15000000000000002, 'n_estimators': 54, 'max_depth': 10, 'num_leaves': 80, 'min_child_samples': 13, 'subsample': 0.6, 'colsample_bytree': 0.9, 'reg_alpha': 0.6000000000000001}. Best is trial 4 with value: 0.9561669829222011.\u001b[0m\n",
      "\u001b[32m[I 2023-10-05 16:41:47,541]\u001b[0m Trial 6 finished with value: 0.9544592030360531 and parameters: {'learning_rate': 0.45000000000000007, 'n_estimators': 88, 'max_depth': 10, 'num_leaves': 45, 'min_child_samples': 15, 'subsample': 0.8, 'colsample_bytree': 1.0, 'reg_alpha': 0.9}. Best is trial 4 with value: 0.9561669829222011.\u001b[0m\n",
      "\u001b[32m[I 2023-10-05 16:41:47,744]\u001b[0m Trial 7 finished with value: 0.9535104364326376 and parameters: {'learning_rate': 0.45000000000000007, 'n_estimators': 102, 'max_depth': 5, 'num_leaves': 28, 'min_child_samples': 16, 'subsample': 0.5, 'colsample_bytree': 0.7, 'reg_alpha': 0.0}. Best is trial 4 with value: 0.9561669829222011.\u001b[0m\n",
      "\u001b[32m[I 2023-10-05 16:41:47,964]\u001b[0m Trial 8 finished with value: 0.9537001897533207 and parameters: {'learning_rate': 0.7000000000000001, 'n_estimators': 78, 'max_depth': 8, 'num_leaves': 68, 'min_child_samples': 10, 'subsample': 0.8, 'colsample_bytree': 0.5, 'reg_alpha': 0.5}. Best is trial 4 with value: 0.9561669829222011.\u001b[0m\n",
      "\u001b[32m[I 2023-10-05 16:41:48,082]\u001b[0m Trial 9 finished with value: 0.9518026565464895 and parameters: {'learning_rate': 0.1, 'n_estimators': 51, 'max_depth': 9, 'num_leaves': 41, 'min_child_samples': 6, 'subsample': 0.7, 'colsample_bytree': 0.6, 'reg_alpha': 0.4}. Best is trial 4 with value: 0.9561669829222011.\u001b[0m\n",
      "\u001b[32m[I 2023-10-05 16:41:48,352]\u001b[0m Trial 10 finished with value: 0.9428842504743833 and parameters: {'learning_rate': 0.1, 'n_estimators': 89, 'max_depth': 4, 'num_leaves': 15, 'min_child_samples': 3, 'subsample': 0.8, 'colsample_bytree': 0.6, 'reg_alpha': 1.0}. Best is trial 4 with value: 0.9561669829222011.\u001b[0m\n",
      "\u001b[32m[I 2023-10-05 16:41:48,564]\u001b[0m Trial 11 finished with value: 0.9527514231499051 and parameters: {'learning_rate': 0.30000000000000004, 'n_estimators': 200, 'max_depth': 3, 'num_leaves': 11, 'min_child_samples': 20, 'subsample': 0.5, 'colsample_bytree': 1.0, 'reg_alpha': 0.7000000000000001}. Best is trial 4 with value: 0.9561669829222011.\u001b[0m\n",
      "\u001b[32m[I 2023-10-05 16:41:48,721]\u001b[0m Trial 13 finished with value: 0.9514231499051233 and parameters: {'learning_rate': 0.4, 'n_estimators': 14, 'max_depth': 9, 'num_leaves': 60, 'min_child_samples': 13, 'subsample': 0.9, 'colsample_bytree': 1.0, 'reg_alpha': 0.7000000000000001}. Best is trial 4 with value: 0.9561669829222011.\u001b[0m\n",
      "\u001b[32m[I 2023-10-05 16:41:49,090]\u001b[0m Trial 14 finished with value: 0.9538899430740038 and parameters: {'learning_rate': 0.6, 'n_estimators': 41, 'max_depth': 10, 'num_leaves': 94, 'min_child_samples': 13, 'subsample': 0.6, 'colsample_bytree': 0.9, 'reg_alpha': 0.8}. Best is trial 4 with value: 0.9561669829222011.\u001b[0m\n",
      "\u001b[32m[I 2023-10-05 16:41:49,522]\u001b[0m Trial 12 finished with value: 0.9537001897533207 and parameters: {'learning_rate': 0.4, 'n_estimators': 194, 'max_depth': 10, 'num_leaves': 64, 'min_child_samples': 13, 'subsample': 0.5, 'colsample_bytree': 1.0, 'reg_alpha': 0.7000000000000001}. Best is trial 4 with value: 0.9561669829222011.\u001b[0m\n",
      "\u001b[32m[I 2023-10-05 16:41:50,175]\u001b[0m Trial 15 finished with value: 0.9521821631878558 and parameters: {'learning_rate': 0.30000000000000004, 'n_estimators': 141, 'max_depth': 10, 'num_leaves': 74, 'min_child_samples': 13, 'subsample': 0.6, 'colsample_bytree': 0.9, 'reg_alpha': 0.2}. Best is trial 4 with value: 0.9561669829222011.\u001b[0m\n",
      "\u001b[32m[I 2023-10-05 16:41:50,403]\u001b[0m Trial 17 finished with value: 0.9555977229601518 and parameters: {'learning_rate': 0.6, 'n_estimators': 28, 'max_depth': 9, 'num_leaves': 52, 'min_child_samples': 20, 'subsample': 0.9, 'colsample_bytree': 0.9, 'reg_alpha': 0.5}. Best is trial 4 with value: 0.9561669829222011.\u001b[0m\n",
      "\u001b[32m[I 2023-10-05 16:41:50,683]\u001b[0m Trial 16 finished with value: 0.9506641366223909 and parameters: {'learning_rate': 0.6, 'n_estimators': 146, 'max_depth': 10, 'num_leaves': 80, 'min_child_samples': 20, 'subsample': 0.9, 'colsample_bytree': 0.9, 'reg_alpha': 0.2}. Best is trial 4 with value: 0.9561669829222011.\u001b[0m\n",
      "\u001b[32m[I 2023-10-05 16:41:50,734]\u001b[0m Trial 18 finished with value: 0.9521821631878558 and parameters: {'learning_rate': 0.7000000000000001, 'n_estimators': 35, 'max_depth': 9, 'num_leaves': 85, 'min_child_samples': 19, 'subsample': 0.9, 'colsample_bytree': 0.9, 'reg_alpha': 0.5}. Best is trial 4 with value: 0.9561669829222011.\u001b[0m\n",
      "\u001b[32m[I 2023-10-05 16:41:50,888]\u001b[0m Trial 19 finished with value: 0.5037950664136622 and parameters: {'learning_rate': 0.7000000000000001, 'n_estimators': 32, 'max_depth': 9, 'num_leaves': 53, 'min_child_samples': 19, 'subsample': 0.9, 'colsample_bytree': 0.7, 'reg_alpha': 0.5}. Best is trial 4 with value: 0.9561669829222011.\u001b[0m\n"
     ]
    },
    {
     "name": "stdout",
     "output_type": "stream",
     "text": [
      "Best trial: {'learning_rate': 0.15000000000000002, 'n_estimators': 54, 'max_depth': 10, 'num_leaves': 80, 'min_child_samples': 13, 'subsample': 0.6, 'colsample_bytree': 0.9, 'reg_alpha': 0.6000000000000001} => 0.956\n"
     ]
    }
   ],
   "source": [
    "def objective(trial):\n",
    "    try:\n",
    "        trial.set_user_attr('classifier', LGBMClassifier.__name__)\n",
    "        learning_rate = trial.suggest_float('learning_rate', 0.1, 1.0, step=0.05)\n",
    "        n_estimators = trial.suggest_int('n_estimators', 1, 200)\n",
    "        max_depth = trial.suggest_int('max_depth', 3, 10)\n",
    "        num_leaves = trial.suggest_int('num_leaves', 10, 100)\n",
    "        min_child_samples = trial.suggest_int('min_child_samples', 1, 20)\n",
    "        subsample = trial.suggest_float('subsample', 0.5, 1.0, step=0.1)\n",
    "        colsample_bytree = trial.suggest_float('colsample_bytree', 0.5, 1.0, step=0.1)\n",
    "        reg_alpha = trial.suggest_float('reg_alpha', 0.0, 1.0, step=0.1)\n",
    "        clf = LGBMClassifier(\n",
    "            learning_rate=learning_rate,\n",
    "            n_estimators=n_estimators,\n",
    "            max_depth=max_depth,\n",
    "            num_leaves=num_leaves,\n",
    "            min_child_samples=min_child_samples,\n",
    "            subsample=subsample,\n",
    "            colsample_bytree=colsample_bytree,\n",
    "            reg_alpha=reg_alpha,\n",
    "            random_state=CFG_SEED\n",
    "        )\n",
    "        clf.fit(X_train, y_train)\n",
    "        y_pred = clf.predict(X_test)\n",
    "        score = accuracy_score(y_test, y_pred)\n",
    "        return score\n",
    "    except:\n",
    "        raise optuna.TrialPruned()\n",
    "\n",
    "study = optuna.create_study(direction='maximize')\n",
    "study.optimize(objective, n_trials=CFG_N_TRIALS, n_jobs=CFG_N_JOBS)\n",
    "print(f'Best trial: {study.best_trial.params} => {study.best_trial.values[0]:.3f}')\n",
    "\n",
    "clf_name = study.best_trial.user_attrs['classifier']\n",
    "classification_results[clf_name] = get_results_statistics(study)"
   ]
  },
  {
   "cell_type": "markdown",
   "id": "fcbffd0a",
   "metadata": {},
   "source": [
    "#### Random Forest"
   ]
  },
  {
   "cell_type": "code",
   "execution_count": 30,
   "id": "1f0babd0",
   "metadata": {},
   "outputs": [
    {
     "name": "stderr",
     "output_type": "stream",
     "text": [
      "\u001b[32m[I 2023-10-05 16:41:50,905]\u001b[0m A new study created in memory with name: no-name-cd434430-42f5-4c24-8dd7-1dc39008884e\u001b[0m\n",
      "\u001b[32m[I 2023-10-05 16:41:52,486]\u001b[0m Trial 0 finished with value: 0.8842504743833017 and parameters: {'n_estimators': 100, 'max_depth': 6, 'min_samples_split': 14, 'min_samples_leaf': 7}. Best is trial 0 with value: 0.8842504743833017.\u001b[0m\n",
      "\u001b[32m[I 2023-10-05 16:41:55,407]\u001b[0m Trial 2 finished with value: 0.7060721062618596 and parameters: {'n_estimators': 300, 'max_depth': 3, 'min_samples_split': 10, 'min_samples_leaf': 8}. Best is trial 0 with value: 0.8842504743833017.\u001b[0m\n",
      "\u001b[32m[I 2023-10-05 16:41:59,080]\u001b[0m Trial 1 finished with value: 0.8747628083491461 and parameters: {'n_estimators': 600, 'max_depth': 5, 'min_samples_split': 15, 'min_samples_leaf': 3}. Best is trial 0 with value: 0.8842504743833017.\u001b[0m\n",
      "\u001b[32m[I 2023-10-05 16:42:05,673]\u001b[0m Trial 4 finished with value: 0.9210626185958254 and parameters: {'n_estimators': 400, 'max_depth': 8, 'min_samples_split': 19, 'min_samples_leaf': 3}. Best is trial 4 with value: 0.9210626185958254.\u001b[0m\n",
      "\u001b[32m[I 2023-10-05 16:42:10,977]\u001b[0m Trial 3 finished with value: 0.9265654648956356 and parameters: {'n_estimators': 900, 'max_depth': 9, 'min_samples_split': 8, 'min_samples_leaf': 5}. Best is trial 3 with value: 0.9265654648956356.\u001b[0m\n",
      "\u001b[32m[I 2023-10-05 16:42:14,774]\u001b[0m Trial 5 finished with value: 0.92865275142315 and parameters: {'n_estimators': 500, 'max_depth': 10, 'min_samples_split': 19, 'min_samples_leaf': 2}. Best is trial 5 with value: 0.92865275142315.\u001b[0m\n",
      "\u001b[32m[I 2023-10-05 16:42:19,134]\u001b[0m Trial 7 finished with value: 0.8891840607210626 and parameters: {'n_estimators': 300, 'max_depth': 6, 'min_samples_split': 10, 'min_samples_leaf': 7}. Best is trial 5 with value: 0.92865275142315.\u001b[0m\n",
      "\u001b[32m[I 2023-10-05 16:42:20,096]\u001b[0m Trial 6 finished with value: 0.8740037950664137 and parameters: {'n_estimators': 700, 'max_depth': 5, 'min_samples_split': 20, 'min_samples_leaf': 7}. Best is trial 5 with value: 0.92865275142315.\u001b[0m\n",
      "\u001b[32m[I 2023-10-05 16:42:26,553]\u001b[0m Trial 8 finished with value: 0.9265654648956356 and parameters: {'n_estimators': 400, 'max_depth': 10, 'min_samples_split': 20, 'min_samples_leaf': 6}. Best is trial 5 with value: 0.92865275142315.\u001b[0m\n",
      "\u001b[32m[I 2023-10-05 16:42:31,785]\u001b[0m Trial 9 finished with value: 0.9222011385199241 and parameters: {'n_estimators': 700, 'max_depth': 8, 'min_samples_split': 8, 'min_samples_leaf': 3}. Best is trial 5 with value: 0.92865275142315.\u001b[0m\n",
      "\u001b[32m[I 2023-10-05 16:42:33,579]\u001b[0m Trial 10 finished with value: 0.9248576850094876 and parameters: {'n_estimators': 400, 'max_depth': 8, 'min_samples_split': 2, 'min_samples_leaf': 3}. Best is trial 5 with value: 0.92865275142315.\u001b[0m\n",
      "\u001b[32m[I 2023-10-05 16:42:50,876]\u001b[0m Trial 11 finished with value: 0.9296015180265654 and parameters: {'n_estimators': 1000, 'max_depth': 10, 'min_samples_split': 2, 'min_samples_leaf': 2}. Best is trial 11 with value: 0.9296015180265654.\u001b[0m\n",
      "\u001b[32m[I 2023-10-05 16:42:52,141]\u001b[0m Trial 12 finished with value: 0.9250474383301708 and parameters: {'n_estimators': 1000, 'max_depth': 10, 'min_samples_split': 6, 'min_samples_leaf': 10}. Best is trial 11 with value: 0.9296015180265654.\u001b[0m\n",
      "\u001b[32m[I 2023-10-05 16:43:06,628]\u001b[0m Trial 14 finished with value: 0.9301707779886148 and parameters: {'n_estimators': 800, 'max_depth': 10, 'min_samples_split': 3, 'min_samples_leaf': 1}. Best is trial 14 with value: 0.9301707779886148.\u001b[0m\n",
      "\u001b[32m[I 2023-10-05 16:43:09,404]\u001b[0m Trial 13 finished with value: 0.9301707779886148 and parameters: {'n_estimators': 1000, 'max_depth': 10, 'min_samples_split': 2, 'min_samples_leaf': 1}. Best is trial 14 with value: 0.9301707779886148.\u001b[0m\n",
      "\u001b[32m[I 2023-10-05 16:43:22,244]\u001b[0m Trial 15 finished with value: 0.9280834914611006 and parameters: {'n_estimators': 900, 'max_depth': 9, 'min_samples_split': 2, 'min_samples_leaf': 1}. Best is trial 14 with value: 0.9301707779886148.\u001b[0m\n",
      "\u001b[32m[I 2023-10-05 16:43:23,198]\u001b[0m Trial 16 finished with value: 0.92865275142315 and parameters: {'n_estimators': 800, 'max_depth': 9, 'min_samples_split': 4, 'min_samples_leaf': 1}. Best is trial 14 with value: 0.9301707779886148.\u001b[0m\n",
      "\u001b[32m[I 2023-10-05 16:43:34,715]\u001b[0m Trial 17 finished with value: 0.9187855787476281 and parameters: {'n_estimators': 800, 'max_depth': 7, 'min_samples_split': 4, 'min_samples_leaf': 1}. Best is trial 14 with value: 0.9301707779886148.\u001b[0m\n",
      "\u001b[32m[I 2023-10-05 16:43:35,579]\u001b[0m Trial 18 finished with value: 0.9187855787476281 and parameters: {'n_estimators': 800, 'max_depth': 7, 'min_samples_split': 5, 'min_samples_leaf': 5}. Best is trial 14 with value: 0.9301707779886148.\u001b[0m\n",
      "\u001b[32m[I 2023-10-05 16:43:43,328]\u001b[0m Trial 19 finished with value: 0.705123339658444 and parameters: {'n_estimators': 900, 'max_depth': 3, 'min_samples_split': 5, 'min_samples_leaf': 5}. Best is trial 14 with value: 0.9301707779886148.\u001b[0m\n"
     ]
    },
    {
     "name": "stdout",
     "output_type": "stream",
     "text": [
      "Best trial: {'n_estimators': 800, 'max_depth': 10, 'min_samples_split': 3, 'min_samples_leaf': 1} => 0.930\n"
     ]
    }
   ],
   "source": [
    "def objective(trial):\n",
    "    try:\n",
    "        trial.set_user_attr('classifier', RandomForestClassifier.__name__)\n",
    "        n_estimators = trial.suggest_int('n_estimators', 100, 1000, step=100)\n",
    "        max_depth = trial.suggest_int('max_depth', 3, 10)\n",
    "        min_samples_split = trial.suggest_int('min_samples_split', 2, 20)\n",
    "        min_samples_leaf = trial.suggest_int('min_samples_leaf', 1, 10)\n",
    "        clf = RandomForestClassifier(\n",
    "            n_estimators=n_estimators,\n",
    "            max_depth=max_depth,\n",
    "            min_samples_split=min_samples_split,\n",
    "            min_samples_leaf=min_samples_leaf,\n",
    "            random_state=CFG_SEED\n",
    "        )\n",
    "        clf.fit(X_train, y_train)\n",
    "        y_pred = clf.predict(X_test)\n",
    "        score = accuracy_score(y_test, y_pred)\n",
    "        return score\n",
    "    except:\n",
    "        raise optuna.TrialPruned()\n",
    "\n",
    "study = optuna.create_study(direction='maximize')\n",
    "study.optimize(objective, n_trials=CFG_N_TRIALS, n_jobs=CFG_N_JOBS)\n",
    "print(f'Best trial: {study.best_trial.params} => {study.best_trial.values[0]:.3f}')\n",
    "\n",
    "clf_name = study.best_trial.user_attrs['classifier']\n",
    "classification_results[clf_name] = get_results_statistics(study)"
   ]
  },
  {
   "cell_type": "markdown",
   "id": "ba1a9820",
   "metadata": {},
   "source": [
    "#### XGBoost"
   ]
  },
  {
   "cell_type": "code",
   "execution_count": 31,
   "id": "91945f50",
   "metadata": {
    "scrolled": true
   },
   "outputs": [
    {
     "name": "stderr",
     "output_type": "stream",
     "text": [
      "\u001b[32m[I 2023-10-05 16:43:43,353]\u001b[0m A new study created in memory with name: no-name-56696989-1d91-4a1f-8627-3ec3007886e0\u001b[0m\n",
      "\u001b[32m[I 2023-10-05 16:43:45,916]\u001b[0m Trial 0 finished with value: 0.9180265654648956 and parameters: {'eta': 0.06999999999999999, 'max_depth': 3, 'subsample': 0.7, 'colsample_bytree': 1.0, 'min_child_weight': 1, 'gamma': 0.9, 'reg_lambda': 0.6000000000000001, 'reg_alpha': 0.6000000000000001}. Best is trial 0 with value: 0.9180265654648956.\u001b[0m\n",
      "\u001b[32m[I 2023-10-05 16:43:47,225]\u001b[0m Trial 1 finished with value: 0.9561669829222011 and parameters: {'eta': 0.27, 'max_depth': 9, 'subsample': 0.9, 'colsample_bytree': 0.7, 'min_child_weight': 4, 'gamma': 0.9, 'reg_lambda': 0.30000000000000004, 'reg_alpha': 0.2}. Best is trial 1 with value: 0.9561669829222011.\u001b[0m\n",
      "\u001b[32m[I 2023-10-05 16:43:50,398]\u001b[0m Trial 3 finished with value: 0.932068311195446 and parameters: {'eta': 0.05, 'max_depth': 5, 'subsample': 0.8, 'colsample_bytree': 0.7, 'min_child_weight': 3, 'gamma': 0.7000000000000001, 'reg_lambda': 0.0, 'reg_alpha': 0.7000000000000001}. Best is trial 1 with value: 0.9561669829222011.\u001b[0m\n",
      "\u001b[32m[I 2023-10-05 16:43:50,473]\u001b[0m Trial 2 finished with value: 0.9529411764705882 and parameters: {'eta': 0.08, 'max_depth': 9, 'subsample': 0.6, 'colsample_bytree': 0.8, 'min_child_weight': 7, 'gamma': 0.7000000000000001, 'reg_lambda': 0.8, 'reg_alpha': 0.0}. Best is trial 1 with value: 0.9561669829222011.\u001b[0m\n",
      "\u001b[32m[I 2023-10-05 16:43:52,850]\u001b[0m Trial 4 finished with value: 0.9476280834914611 and parameters: {'eta': 0.26, 'max_depth': 3, 'subsample': 0.6, 'colsample_bytree': 0.8, 'min_child_weight': 6, 'gamma': 0.0, 'reg_lambda': 0.9, 'reg_alpha': 0.9}. Best is trial 1 with value: 0.9561669829222011.\u001b[0m\n",
      "\u001b[32m[I 2023-10-05 16:43:54,223]\u001b[0m Trial 5 finished with value: 0.9370018975332068 and parameters: {'eta': 0.060000000000000005, 'max_depth': 6, 'subsample': 1.0, 'colsample_bytree': 0.9, 'min_child_weight': 8, 'gamma': 0.7000000000000001, 'reg_lambda': 1.0, 'reg_alpha': 0.4}. Best is trial 1 with value: 0.9561669829222011.\u001b[0m\n",
      "\u001b[32m[I 2023-10-05 16:43:56,985]\u001b[0m Trial 6 finished with value: 0.9332068311195446 and parameters: {'eta': 0.060000000000000005, 'max_depth': 7, 'subsample': 1.0, 'colsample_bytree': 1.0, 'min_child_weight': 7, 'gamma': 0.6000000000000001, 'reg_lambda': 0.5, 'reg_alpha': 0.4}. Best is trial 1 with value: 0.9561669829222011.\u001b[0m\n",
      "\u001b[32m[I 2023-10-05 16:43:57,331]\u001b[0m Trial 7 finished with value: 0.9518026565464895 and parameters: {'eta': 0.19, 'max_depth': 5, 'subsample': 0.6, 'colsample_bytree': 0.8, 'min_child_weight': 8, 'gamma': 0.5, 'reg_lambda': 0.4, 'reg_alpha': 0.9}. Best is trial 1 with value: 0.9561669829222011.\u001b[0m\n",
      "\u001b[32m[I 2023-10-05 16:43:59,615]\u001b[0m Trial 9 finished with value: 0.891650853889943 and parameters: {'eta': 0.03, 'max_depth': 3, 'subsample': 0.8, 'colsample_bytree': 0.8, 'min_child_weight': 1, 'gamma': 1.0, 'reg_lambda': 1.0, 'reg_alpha': 1.0}. Best is trial 1 with value: 0.9561669829222011.\u001b[0m\n",
      "\u001b[32m[I 2023-10-05 16:43:59,858]\u001b[0m Trial 8 finished with value: 0.9531309297912713 and parameters: {'eta': 0.23, 'max_depth': 5, 'subsample': 0.8, 'colsample_bytree': 0.8, 'min_child_weight': 10, 'gamma': 0.9, 'reg_lambda': 0.0, 'reg_alpha': 0.1}. Best is trial 1 with value: 0.9561669829222011.\u001b[0m\n",
      "\u001b[32m[I 2023-10-05 16:44:03,217]\u001b[0m Trial 11 finished with value: 0.9548387096774194 and parameters: {'eta': 0.3, 'max_depth': 10, 'subsample': 0.9, 'colsample_bytree': 0.5, 'min_child_weight': 4, 'gamma': 0.30000000000000004, 'reg_lambda': 0.30000000000000004, 'reg_alpha': 0.2}. Best is trial 1 with value: 0.9561669829222011.\u001b[0m\n",
      "\u001b[32m[I 2023-10-05 16:44:03,800]\u001b[0m Trial 10 finished with value: 0.9529411764705882 and parameters: {'eta': 0.06999999999999999, 'max_depth': 10, 'subsample': 0.6, 'colsample_bytree': 0.6, 'min_child_weight': 10, 'gamma': 0.0, 'reg_lambda': 0.8, 'reg_alpha': 0.6000000000000001}. Best is trial 1 with value: 0.9561669829222011.\u001b[0m\n",
      "\u001b[32m[I 2023-10-05 16:44:06,661]\u001b[0m Trial 12 finished with value: 0.9548387096774194 and parameters: {'eta': 0.3, 'max_depth': 10, 'subsample': 0.9, 'colsample_bytree': 0.5, 'min_child_weight': 4, 'gamma': 0.30000000000000004, 'reg_lambda': 0.30000000000000004, 'reg_alpha': 0.2}. Best is trial 1 with value: 0.9561669829222011.\u001b[0m\n",
      "\u001b[32m[I 2023-10-05 16:44:07,038]\u001b[0m Trial 13 finished with value: 0.9538899430740038 and parameters: {'eta': 0.3, 'max_depth': 9, 'subsample': 0.9, 'colsample_bytree': 0.5, 'min_child_weight': 4, 'gamma': 0.30000000000000004, 'reg_lambda': 0.2, 'reg_alpha': 0.2}. Best is trial 1 with value: 0.9561669829222011.\u001b[0m\n",
      "\u001b[32m[I 2023-10-05 16:44:09,636]\u001b[0m Trial 14 finished with value: 0.9548387096774194 and parameters: {'eta': 0.3, 'max_depth': 8, 'subsample': 0.9, 'colsample_bytree': 0.5, 'min_child_weight': 4, 'gamma': 0.30000000000000004, 'reg_lambda': 0.2, 'reg_alpha': 0.2}. Best is trial 1 with value: 0.9561669829222011.\u001b[0m\n",
      "\u001b[32m[I 2023-10-05 16:44:10,651]\u001b[0m Trial 15 finished with value: 0.9527514231499051 and parameters: {'eta': 0.15000000000000002, 'max_depth': 8, 'subsample': 0.9, 'colsample_bytree': 0.6, 'min_child_weight': 3, 'gamma': 0.30000000000000004, 'reg_lambda': 0.2, 'reg_alpha': 0.30000000000000004}. Best is trial 1 with value: 0.9561669829222011.\u001b[0m\n",
      "\u001b[32m[I 2023-10-05 16:44:13,179]\u001b[0m Trial 16 finished with value: 0.9523719165085389 and parameters: {'eta': 0.14, 'max_depth': 8, 'subsample': 1.0, 'colsample_bytree': 0.6, 'min_child_weight': 3, 'gamma': 0.4, 'reg_lambda': 0.6000000000000001, 'reg_alpha': 0.4}. Best is trial 1 with value: 0.9561669829222011.\u001b[0m\n",
      "\u001b[32m[I 2023-10-05 16:44:14,208]\u001b[0m Trial 17 finished with value: 0.955977229601518 and parameters: {'eta': 0.25, 'max_depth': 9, 'subsample': 1.0, 'colsample_bytree': 0.6, 'min_child_weight': 5, 'gamma': 0.5, 'reg_lambda': 0.6000000000000001, 'reg_alpha': 0.0}. Best is trial 1 with value: 0.9561669829222011.\u001b[0m\n",
      "\u001b[32m[I 2023-10-05 16:44:17,711]\u001b[0m Trial 18 finished with value: 0.9557874762808349 and parameters: {'eta': 0.25, 'max_depth': 10, 'subsample': 0.7, 'colsample_bytree': 0.7, 'min_child_weight': 5, 'gamma': 0.2, 'reg_lambda': 0.30000000000000004, 'reg_alpha': 0.0}. Best is trial 1 with value: 0.9561669829222011.\u001b[0m\n",
      "\u001b[32m[I 2023-10-05 16:44:18,168]\u001b[0m Trial 19 finished with value: 0.9557874762808349 and parameters: {'eta': 0.24000000000000002, 'max_depth': 9, 'subsample': 1.0, 'colsample_bytree': 0.7, 'min_child_weight': 5, 'gamma': 0.5, 'reg_lambda': 0.6000000000000001, 'reg_alpha': 0.0}. Best is trial 1 with value: 0.9561669829222011.\u001b[0m\n"
     ]
    },
    {
     "name": "stdout",
     "output_type": "stream",
     "text": [
      "Best trial: {'eta': 0.27, 'max_depth': 9, 'subsample': 0.9, 'colsample_bytree': 0.7, 'min_child_weight': 4, 'gamma': 0.9, 'reg_lambda': 0.30000000000000004, 'reg_alpha': 0.2} => 0.956\n"
     ]
    }
   ],
   "source": [
    "def objective(trial):\n",
    "    try:\n",
    "        trial.set_user_attr('classifier', XGBClassifier.__name__)\n",
    "        eta = trial.suggest_float('eta', 0.01, 0.3, step=0.01)\n",
    "        max_depth = trial.suggest_int('max_depth', 3, 10)\n",
    "        subsample = trial.suggest_float('subsample', 0.5, 1.0, step=0.1)\n",
    "        colsample_bytree = trial.suggest_float('colsample_bytree', 0.5, 1.0, step=0.1)\n",
    "        min_child_weight = trial.suggest_int('min_child_weight', 1, 10)\n",
    "        gamma = trial.suggest_float('gamma', 0.0, 1.0, step=0.1)\n",
    "        reg_lambda = trial.suggest_float('reg_lambda', 0.0, 1.0, step=0.1)\n",
    "        reg_alpha = trial.suggest_float('reg_alpha', 0.0, 1.0, step=0.1)\n",
    "        clf = XGBClassifier(\n",
    "            objective='binary:logistic',\n",
    "            eval_metric='logloss',\n",
    "            eta=eta,\n",
    "            max_depth=max_depth,\n",
    "            subsample=subsample,\n",
    "            colsample_bytree=colsample_bytree,\n",
    "            min_child_weight=min_child_weight,\n",
    "            gamma=gamma,\n",
    "            reg_lambda=reg_lambda,\n",
    "            reg_alpha=reg_alpha,\n",
    "            n_jobs=CFG_N_JOBS,\n",
    "            random_state=CFG_SEED\n",
    "        )\n",
    "        clf.fit(X_train, y_train)\n",
    "        y_pred = clf.predict(X_test)\n",
    "        score = accuracy_score(y_test, y_pred)\n",
    "        return score\n",
    "    except:\n",
    "        raise optuna.TrialPruned()\n",
    "\n",
    "study = optuna.create_study(direction='maximize')\n",
    "study.optimize(objective, n_trials=CFG_N_TRIALS, n_jobs=CFG_N_JOBS)\n",
    "print(f'Best trial: {study.best_trial.params} => {study.best_trial.values[0]:.3f}')\n",
    "\n",
    "clf_name = study.best_trial.user_attrs['classifier']\n",
    "classification_results[clf_name] = get_results_statistics(study)"
   ]
  },
  {
   "cell_type": "markdown",
   "id": "16115389",
   "metadata": {},
   "source": [
    "#### Summarize results"
   ]
  },
  {
   "cell_type": "code",
   "execution_count": 32,
   "id": "a192287c",
   "metadata": {},
   "outputs": [
    {
     "data": {
      "text/html": [
       "<div>\n",
       "<style scoped>\n",
       "    .dataframe tbody tr th:only-of-type {\n",
       "        vertical-align: middle;\n",
       "    }\n",
       "\n",
       "    .dataframe tbody tr th {\n",
       "        vertical-align: top;\n",
       "    }\n",
       "\n",
       "    .dataframe thead th {\n",
       "        text-align: right;\n",
       "    }\n",
       "</style>\n",
       "<table border=\"1\" class=\"dataframe\">\n",
       "  <thead>\n",
       "    <tr style=\"text-align: right;\">\n",
       "      <th></th>\n",
       "      <th>DecisionTreeClassifier</th>\n",
       "      <th>LGBMClassifier</th>\n",
       "      <th>RandomForestClassifier</th>\n",
       "      <th>XGBClassifier</th>\n",
       "    </tr>\n",
       "  </thead>\n",
       "  <tbody>\n",
       "    <tr>\n",
       "      <th>score_min</th>\n",
       "      <td>0.760</td>\n",
       "      <td>0.504</td>\n",
       "      <td>0.705</td>\n",
       "      <td>0.892</td>\n",
       "    </tr>\n",
       "    <tr>\n",
       "      <th>score_max</th>\n",
       "      <td>0.957</td>\n",
       "      <td>0.956</td>\n",
       "      <td>0.930</td>\n",
       "      <td>0.956</td>\n",
       "    </tr>\n",
       "    <tr>\n",
       "      <th>score_mean</th>\n",
       "      <td>0.900</td>\n",
       "      <td>0.889</td>\n",
       "      <td>0.895</td>\n",
       "      <td>0.946</td>\n",
       "    </tr>\n",
       "    <tr>\n",
       "      <th>score_std</th>\n",
       "      <td>0.058</td>\n",
       "      <td>0.151</td>\n",
       "      <td>0.066</td>\n",
       "      <td>0.016</td>\n",
       "    </tr>\n",
       "    <tr>\n",
       "      <th>time_min</th>\n",
       "      <td>0.024</td>\n",
       "      <td>0.108</td>\n",
       "      <td>1.578</td>\n",
       "      <td>2.282</td>\n",
       "    </tr>\n",
       "    <tr>\n",
       "      <th>time_max</th>\n",
       "      <td>0.024</td>\n",
       "      <td>0.108</td>\n",
       "      <td>1.578</td>\n",
       "      <td>2.282</td>\n",
       "    </tr>\n",
       "    <tr>\n",
       "      <th>time_mean</th>\n",
       "      <td>0.045</td>\n",
       "      <td>0.489</td>\n",
       "      <td>10.853</td>\n",
       "      <td>3.457</td>\n",
       "    </tr>\n",
       "    <tr>\n",
       "      <th>time_std</th>\n",
       "      <td>0.014</td>\n",
       "      <td>0.299</td>\n",
       "      <td>5.063</td>\n",
       "      <td>0.630</td>\n",
       "    </tr>\n",
       "  </tbody>\n",
       "</table>\n",
       "</div>"
      ],
      "text/plain": [
       "            DecisionTreeClassifier  LGBMClassifier  RandomForestClassifier   \n",
       "score_min                    0.760           0.504                   0.705  \\\n",
       "score_max                    0.957           0.956                   0.930   \n",
       "score_mean                   0.900           0.889                   0.895   \n",
       "score_std                    0.058           0.151                   0.066   \n",
       "time_min                     0.024           0.108                   1.578   \n",
       "time_max                     0.024           0.108                   1.578   \n",
       "time_mean                    0.045           0.489                  10.853   \n",
       "time_std                     0.014           0.299                   5.063   \n",
       "\n",
       "            XGBClassifier  \n",
       "score_min           0.892  \n",
       "score_max           0.956  \n",
       "score_mean          0.946  \n",
       "score_std           0.016  \n",
       "time_min            2.282  \n",
       "time_max            2.282  \n",
       "time_mean           3.457  \n",
       "time_std            0.630  "
      ]
     },
     "execution_count": 32,
     "metadata": {},
     "output_type": "execute_result"
    }
   ],
   "source": [
    "pd.DataFrame.from_dict(classification_results).round(3)"
   ]
  }
 ],
 "metadata": {
  "kernelspec": {
   "display_name": "Python 3 (ipykernel)",
   "language": "python",
   "name": "python3"
  },
  "language_info": {
   "codemirror_mode": {
    "name": "ipython",
    "version": 3
   },
   "file_extension": ".py",
   "mimetype": "text/x-python",
   "name": "python",
   "nbconvert_exporter": "python",
   "pygments_lexer": "ipython3",
   "version": "3.10.11"
  }
 },
 "nbformat": 4,
 "nbformat_minor": 5
}
